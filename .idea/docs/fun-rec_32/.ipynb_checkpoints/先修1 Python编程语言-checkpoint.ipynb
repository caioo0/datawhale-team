{
 "cells": [
  {
   "cell_type": "markdown",
   "id": "41a0eeb1",
   "metadata": {},
   "source": [
    "# 变量、运算符与数据类型\n",
    "\n",
    "## 1. 注释\n",
    "\n",
    "1. `#`符号表示整行注释\n",
    "2. 三引号`'''\\nline\\n'''`或`\"\"\" line \"\"\"`表示区间注释，引号中间的内容被注释\n",
    "\n",
    "【例子】单行注释"
   ]
  },
  {
   "cell_type": "code",
   "execution_count": 77,
   "id": "04059fa9",
   "metadata": {},
   "outputs": [
    {
     "name": "stdout",
     "output_type": "stream",
     "text": [
      "A = 3\n"
     ]
    }
   ],
   "source": [
    "# 计算A\n",
    "A= 1+2\n",
    "print(\"A =\",A)\n",
    "# 答案 3"
   ]
  },
  {
   "cell_type": "markdown",
   "id": "d0f8b5ce",
   "metadata": {},
   "source": [
    "【例子】 多行注释"
   ]
  },
  {
   "cell_type": "code",
   "execution_count": 27,
   "id": "53047eb8",
   "metadata": {},
   "outputs": [
    {
     "name": "stdout",
     "output_type": "stream",
     "text": [
      "Hello china\n",
      "hello china\n"
     ]
    }
   ],
   "source": [
    "'''\n",
    "这是多行注释，用三个单引号\n",
    "这是多行注释，用三个单引号\n",
    "这是多行注释，用三个单引号\n",
    "'''\n",
    "print(\"Hello china\") \n",
    "# Hello china\n",
    "\n",
    "\"\"\"\n",
    "这是多行注释，用三个双引号\n",
    "这是多行注释，用三个双引号 \n",
    "这是多行注释，用三个双引号\n",
    "\"\"\"\n",
    "print(\"hello china\") \n",
    "# hello china"
   ]
  },
  {
   "cell_type": "markdown",
   "id": "b40741c2",
   "metadata": {},
   "source": [
    "## 2. 运算符\n",
    "\n",
    "举个例子：\n",
    "\n",
    "```python\n",
    "4 + 5 = 9\n",
    "```\n",
    "例子中，$4$和$5$被称为操作数，`+`称为**运算符**。\n",
    "\n",
    "python支持的运算符：\n",
    "\n",
    "- 算术运算符\n",
    "- 比较（关系）运算符\n",
    "- 赋值运算符\n",
    "- 逻辑运算符\n",
    "- 位运算符\n",
    "- 成员运算符\n",
    "- 身份运算符\n",
    "- 运算符优先级\n",
    "\n",
    "### 2.1 算术运算符\n",
    "\n",
    "\n",
    "以下假设变量 a=10，变量 b=21：\n",
    "\n",
    "|运算符|名称|示例|\n",
    "|  :----:  | :----  |: ----  |\n",
    "|`+`| 加 - 两个对象相加 | `a+b`输出结果$31$|\n",
    "|`-`| 减 - 第一个数减去另一个数| `a-b` 输出结果$-11$|\n",
    "|`*`| 乘 - 两个数相乘或是返回一个被重复若干次的字符串| `a*b`输出结果$210$|\n",
    "|`/`| 除 - x除以y | `b/a`输出结果$2.1$|\n",
    "|`//`| 取整除 - 向下取接近商的整数| `9//2`输出结果 $4$， `-9//2`输出结果 $-5$|\n",
    "|`%`| 取余/取模 - 返回除法的余数|b % a 输出结果 1|\n",
    "|`**`| 幂 - 返回x的y次幂| \t$a**b$ 为10的21次方|\n",
    "        "
   ]
  },
  {
   "cell_type": "markdown",
   "id": "2422336f",
   "metadata": {},
   "source": [
    "  [在线测试]([https://www.runoob.com/try/runcode.php?filename=test_operator&type=python)\n",
    "\n"
   ]
  },
  {
   "cell_type": "markdown",
   "id": "75081d1e",
   "metadata": {},
   "source": [
    "### 2.2 比较运算符\n",
    "\n",
    "比较运算符包含：`大于`,`大于等于`,`小于`,`小于等于`,`等于`,`不等于`\n",
    "\n",
    "以下假设变量a为10，变量b为20：\n",
    "\n",
    "|操作符|名称|示例|\n",
    "|  :----:  | :----  |:----  |\n",
    "|`>`| 大于 - 返回x是否大于y | (a > b) 返回 False。|\n",
    "|`>=`| 大于等于 - 返回x是否大于等于y。| (a >= b) 返回 False。|\n",
    "|`<`| 小于 - 返回x是否小于y。所有比较运算符返回1表示真，返回0表示假。这分别与特殊的变量True和False等价。注意，这些变量名的大写。| (a < b) 返回 True。|\n",
    "|`<=`| 小于等于 - 返回x是否小于等于y。| \t(a <= b) 返回 True。|\n",
    "|`==`| 等于 - 比较对象是否相等|\t(a == b) 返回 False。|\n",
    "|`!=`| 不等于 - 比较两个对象是否不相等| (a != b) 返回 True。|"
   ]
  },
  {
   "cell_type": "markdown",
   "id": "b8cee0e5",
   "metadata": {},
   "source": [
    "【例子】"
   ]
  },
  {
   "cell_type": "code",
   "execution_count": 28,
   "id": "3387ebc7",
   "metadata": {},
   "outputs": [
    {
     "name": "stdout",
     "output_type": "stream",
     "text": [
      "True\n",
      "False\n",
      "True\n",
      "False\n",
      "False\n",
      "True\n"
     ]
    }
   ],
   "source": [
    "print(2 > 1)  # True\n",
    "print(2 >= 4)  # False\n",
    "print(1 < 2)  # True\n",
    "print(5 <= 2)  # False\n",
    "print(3 == 4)  # False\n",
    "print(3 != 5)  # True"
   ]
  },
  {
   "cell_type": "markdown",
   "id": "4f75f455",
   "metadata": {},
   "source": [
    "###  2.3 赋值运算符\n",
    "\n",
    "以下假设变量a为10，变量b为20：\n",
    "\n",
    "|操作符|名称|示例|\n",
    "|  :----:  | :----  |:----  |\n",
    "|`=`| 简单的赋值运算符| c= a + b 将 a + b 的运算结果赋值为 c|\n",
    "|`+=`| 加法赋值运算符| c += a 等效于 c = c + a |\n",
    "|`-=`| 减法赋值运算符。| c -= a 等效于 c = c - a|\n",
    "|`*=`| 乘法赋值运算符| \t`c *=  a` 等效于` c = c *a`|\n",
    "|`/=`| 除法赋值运算符|\tc /= a 等效于 c = c / a|\n",
    "|`%=`| 取模赋值运算符| c %= a 等效于 c = c % a|\n",
    "|`**=`| 幂赋值运算符| $c **= a$ 等效于 $c = c ** a$|\n",
    "|`//=`| 取整赋值运算符| c //= a 等效于 c = c // a|\n",
    "|`:=`| 海象运算符，可在表达式内部为变量赋值。`Python3.8 版本新增运算符。`| 在这个示例中，赋值表达式可以避免调用 len() 两次:|"
   ]
  },
  {
   "cell_type": "markdown",
   "id": "f29b32aa",
   "metadata": {},
   "source": [
    "【例子】海象运算符，摘自[Python 中海象运算符的三种用法 ](https://www.cnblogs.com/wongbingming/p/12743802.html)"
   ]
  },
  {
   "cell_type": "code",
   "execution_count": 46,
   "id": "cae3ea19",
   "metadata": {},
   "outputs": [
    {
     "name": "stdout",
     "output_type": "stream",
     "text": [
      "List is too long (8 elements, expected <= 10)\n",
      "已经成年了\n",
      "Enter the password: 3\n",
      "Enter the password: 3\n",
      "Enter the password: youpassword\n"
     ]
    }
   ],
   "source": [
    "a = [1,2,3,4,5,5,6,7] \n",
    "\n",
    "# 1. 第一个用法：if/else \n",
    "\n",
    "if (n := len(a)) > 3:\n",
    "    print(f\"List is too long ({n} elements, expected <= 10)\")\n",
    "    \n",
    "  \n",
    "if (age:= 20) > 18:print(\"已经成年了\")\n",
    "    \n",
    " \n",
    "# 2. 第二个用法：while\n",
    "while (p := input(\"Enter the password: \")) != \"youpassword\":continue\n",
    "        "
   ]
  },
  {
   "cell_type": "code",
   "execution_count": 48,
   "id": "466d823d",
   "metadata": {},
   "outputs": [
    {
     "name": "stdout",
     "output_type": "stream",
     "text": [
      "执行了 1 次\n",
      "执行了 2 次\n",
      "执行了 3 次\n",
      "[25.88057063502083]\n"
     ]
    }
   ],
   "source": [
    "# 查出所有会员中过于肥胖的人的 bmi 指数\n",
    "# 3. 第三个用法：推导式\n",
    "members = [\n",
    "    {\"name\": \"小五\", \"age\": 23, \"height\": 1.75, \"weight\": 72},\n",
    "    {\"name\": \"小李\", \"age\": 17, \"height\": 1.72, \"weight\": 63},\n",
    "    {\"name\": \"小陈\", \"age\": 20, \"height\": 1.78, \"weight\": 82},\n",
    "]\n",
    "\n",
    "count = 0\n",
    "\n",
    "def get_bmi(info):\n",
    "    global count\n",
    "    count += 1\n",
    "\n",
    "    print(f\"执行了 {count} 次\")\n",
    "\n",
    "    height = info[\"height\"]\n",
    "    weight = info[\"weight\"]\n",
    "\n",
    "    return weight / (height**2)\n",
    "\n",
    "fat_bmis = [bmi for m in members if (bmi := get_bmi(m)) > 24]\n",
    "\n",
    "print(fat_bmis)"
   ]
  },
  {
   "cell_type": "markdown",
   "id": "70f2391a",
   "metadata": {},
   "source": [
    "### 2.4 位运算符\n",
    "\n",
    "下表中变量 a 为 60，b 为 13二进制格式如下：\n",
    "\n",
    "```python\n",
    "a = 0011 1100\n",
    "\n",
    "b = 0000 1101\n",
    "\n",
    "-----------------\n",
    "\n",
    "a&b = 0000 1100\n",
    "\n",
    "a|b = 0011 1101\n",
    "\n",
    "a^b = 0011 0001\n",
    "\n",
    "~a  = 1100 0011\n",
    "```\n",
    "\n",
    "|运算符|描述|示例|\n",
    "|  :----:  | :----  |:----  |\n",
    "|`&`| 按位与运算符：参与运算的两个值,如果两个相应位都为1,则该位的结果为1,否则为0| (a & b) 输出结果 12 ，二进制解释： 0000 1100|\n",
    "|`\\|`| 按位或运算符：只要对应的二个二进位有一个为1时，结果位就为1 | `(a \\| b) `输出结果 61 ，二进制解释： 0011 1101 |\n",
    "|`^`| 按位异或运算符：当两对应的二进位相异时，结果为1 | (a ^ b) 输出结果 49 ，二进制解释： 0011 0001|\n",
    "|`~`| 按位取反运算符：对数据的每个 二进制取反，即把1变为0，把0变为1。`~x`类似于`-x-1`| \t(~a ) 输出结果 -61 ，二进制解释： 1100 0011， 在一个有符号二进制数的补码形式。|\n",
    "|`<<`| 左移动运算符：运算数的各二进位全部左移若干位，由\"<<\"右边的数指定移动的位数，高位丢弃，低位补0。|a << 2 输出结果 240 ，二进制解释： 1111 0000|\n",
    "|`>>`|右移动运算符：把\">>\"左边的运算数的各二进位全部右移若干位，\">>\"右边的数指定移动的位数|a >> 2 输出结果 15 ，二进制解释： 0000 1111\n",
    "|\n",
    "\n"
   ]
  },
  {
   "cell_type": "markdown",
   "id": "b76e1820",
   "metadata": {},
   "source": [
    "【实例】"
   ]
  },
  {
   "cell_type": "code",
   "execution_count": 50,
   "id": "ab3af070",
   "metadata": {},
   "outputs": [
    {
     "name": "stdout",
     "output_type": "stream",
     "text": [
      "1 - c 的值为： 12\n",
      "2 - c 的值为： 61\n",
      "3 - c 的值为： 49\n",
      "4 - c 的值为： -61\n",
      "5 - c 的值为： 240\n",
      "6 - c 的值为： 15\n"
     ]
    }
   ],
   "source": [
    "#!/usr/bin/python3\n",
    " \n",
    "a = 60            # 60 = 0011 1100 \n",
    "b = 13            # 13 = 0000 1101 \n",
    "c = 0\n",
    " \n",
    "c = a & b        # 12 = 0000 1100\n",
    "print (\"1 - c 的值为：\", c)\n",
    " \n",
    "c = a | b        # 61 = 0011 1101 \n",
    "print (\"2 - c 的值为：\", c)\n",
    " \n",
    "c = a ^ b        # 49 = 0011 0001\n",
    "print (\"3 - c 的值为：\", c)\n",
    " \n",
    "c = ~a           # -61 = 1100 0011\n",
    "print (\"4 - c 的值为：\", c)\n",
    " \n",
    "c = a << 2       # 240 = 1111 0000\n",
    "print (\"5 - c 的值为：\", c)\n",
    " \n",
    "c = a >> 2       # 15 = 0000 1111\n",
    "print (\"6 - c 的值为：\", c)"
   ]
  },
  {
   "cell_type": "markdown",
   "id": "0db0bdeb",
   "metadata": {},
   "source": [
    "### 2.5 逻辑运算符\n",
    "\n",
    "Python语言支持逻辑运算符，以下假设变量 a 为 10, b为 20:\n",
    "\n",
    "|运算符|逻辑表达式|描述|示例|\n",
    "|  :----:  | :----  |:----  |:----  |\n",
    "|`and`| x and y  | 布尔\"与\" - 如果 x 为 False，x and y 返回 x 的值，否则返回 y 的计算值。 |(a and b) 返回 20。|\n",
    "|`or`| x or y  | 布尔\"或\" - 如果 x 是 True，它返回 x 的值，否则它返回 y 的计算值。 |(a or b) 返回 10。|\n",
    "|`not`| not x  | 布尔\"非\" - 如果 x 为 True，返回 False 。如果 x 为 False，它返回 True。 |not(a and b) 返回 False。|\n",
    "\n"
   ]
  },
  {
   "cell_type": "code",
   "execution_count": 52,
   "id": "2f1fc562",
   "metadata": {},
   "outputs": [
    {
     "name": "stdout",
     "output_type": "stream",
     "text": [
      "1 - 变量 a 和 b 都为 true\n",
      "2 - 变量 a 和 b 都为 true，或其中一个变量为 true\n",
      "3 - 变量 a 和 b 有一个不为 true\n",
      "4 - 变量 a 和 b 都为 true，或其中一个变量为 true\n",
      "5 - 变量 a 和 b 都为 false，或其中一个变量为 false\n"
     ]
    }
   ],
   "source": [
    "a = 10\n",
    "b = 20\n",
    " \n",
    "if ( a and b ):\n",
    "   print (\"1 - 变量 a 和 b 都为 true\")\n",
    "else:\n",
    "   print (\"1 - 变量 a 和 b 有一个不为 true\")\n",
    " \n",
    "if ( a or b ):\n",
    "   print (\"2 - 变量 a 和 b 都为 true，或其中一个变量为 true\")\n",
    "else:\n",
    "   print (\"2 - 变量 a 和 b 都不为 true\")\n",
    " \n",
    "# 修改变量 a 的值\n",
    "a = 0\n",
    "if ( a and b ):\n",
    "   print (\"3 - 变量 a 和 b 都为 true\")\n",
    "else:\n",
    "   print (\"3 - 变量 a 和 b 有一个不为 true\")\n",
    " \n",
    "if ( a or b ):\n",
    "   print (\"4 - 变量 a 和 b 都为 true，或其中一个变量为 true\")\n",
    "else:\n",
    "   print (\"4 - 变量 a 和 b 都不为 true\")\n",
    " \n",
    "if not( a and b ):\n",
    "   print (\"5 - 变量 a 和 b 都为 false，或其中一个变量为 false\")\n",
    "else:\n",
    "   print (\"5 - 变量 a 和 b 都为 true\")"
   ]
  },
  {
   "cell_type": "markdown",
   "id": "7e042325",
   "metadata": {},
   "source": [
    "### 2.6 成员运算符\n",
    "\n",
    "|运算符|描述|示例|\n",
    "|  :----:  | :----  |:----  |\n",
    "|`in`| 如果在指定的序列中找到值返回 True，否则返回 False。 |x 在 y 序列中 , 如果 x 在 y 序列中返回 True。|\n",
    "|`not in`| 如果在指定的序列中没有找到值返回 True，否则返回 False。\t |x 不在 y 序列中 , 如果 x 不在 y 序列中返回 True。|\n",
    "\n",
    "\n",
    "### 2.7 身份运算符\n",
    "\n",
    "\n",
    "|运算符|描述|示例|\n",
    "|  :----:  | :----  |:----  |\n",
    "|`is`| is 是判断两个标识符是不是引用自一个对象。 |x is y, 类似 id(x) == id(y) , 如果引用的是同一个对象则返回 True，否则返回 False。|\n",
    "|`is not `| is not 是判断两个标识符是不是引用自不同对象。\t |x is not y ， 类似 id(a) != id(b)。如果引用的不是同一个对象则返回结果 True，否则返回 False。|\n",
    "\n",
    "注： [`id()`](https://www.runoob.com/python/python-func-id.html) 函数用于获取对象内存地址。\n",
    "\n",
    "\n",
    "### 2.8 三元运算符\n",
    "\n",
    "【例子】"
   ]
  },
  {
   "cell_type": "code",
   "execution_count": 54,
   "id": "9e27a531",
   "metadata": {},
   "outputs": [
    {
     "name": "stdout",
     "output_type": "stream",
     "text": [
      "4\n"
     ]
    }
   ],
   "source": [
    "x, y = 4, 5\n",
    "\n",
    "if x < y:\n",
    "    small = x\n",
    "else:\n",
    "    small = y\n",
    "    \n",
    "print(small) # 4"
   ]
  },
  {
   "cell_type": "markdown",
   "id": "b6c48903",
   "metadata": {},
   "source": [
    "三元操作符的条件表达式："
   ]
  },
  {
   "cell_type": "code",
   "execution_count": 58,
   "id": "cb26fea4",
   "metadata": {},
   "outputs": [
    {
     "name": "stdout",
     "output_type": "stream",
     "text": [
      "4\n"
     ]
    }
   ],
   "source": [
    "x,y,z = 4,5,6\n",
    "small = z if x<y else y\n",
    "\n",
    "print(small) # 4"
   ]
  },
  {
   "cell_type": "markdown",
   "id": "85042ea6",
   "metadata": {},
   "source": [
    "## 3. 变量和赋值\n",
    "\n",
    "\n",
    "- Python 中的变量不需要声明,每个变量在使用之前，必须赋值，变量赋值以后该变量才会被创建。\n",
    "- 变量名可以包括字母、数字、下划线、但变量名不能以数字开头。\n",
    "- Python 变量名是大小写敏感的，foo != Foo。\n",
    "- 在 Python 中，变量就是变量，它没有类型，我们所说的\"类型\"是变量所指的内存中对象的类型。\n",
    "\n",
    "等号（=）用来给变量赋值。\n",
    "\n",
    "等号（=）运算符左边是一个变量名,等号（=）运算符右边是存储在变量中的值。例如：\n",
    "\n"
   ]
  },
  {
   "cell_type": "code",
   "execution_count": 70,
   "id": "61194150",
   "metadata": {
    "scrolled": true
   },
   "outputs": [
    {
     "name": "stdout",
     "output_type": "stream",
     "text": [
      "100\n",
      "1000.0\n",
      "runoob\n"
     ]
    }
   ],
   "source": [
    "#!/usr/bin/python3\n",
    "\n",
    "counter = 100          # 整型变量\n",
    "miles   = 1000.0       # 浮点型变量\n",
    "name    = \"runoob\"     # 字符串\n",
    "\n",
    "print (counter)\n",
    "print (miles)\n",
    "print (name)"
   ]
  },
  {
   "cell_type": "markdown",
   "id": "de614c11",
   "metadata": {},
   "source": [
    "**多个变量赋值**\n",
    "\n",
    "Python允许你同时为多个变量赋值。例如："
   ]
  },
  {
   "cell_type": "code",
   "execution_count": 71,
   "id": "d50b4c51",
   "metadata": {},
   "outputs": [],
   "source": [
    "a, b, c = 1, 2, \"runoob\""
   ]
  },
  {
   "cell_type": "markdown",
   "id": "9e4b5ee7",
   "metadata": {},
   "source": [
    "以上实例，两个整型对象 1 和 2 的分配给变量 a 和 b，字符串对象 \"runoob\" 分配给变量 c。"
   ]
  },
  {
   "cell_type": "markdown",
   "id": "11954c89",
   "metadata": {},
   "source": [
    "## 4. 数据类型\n",
    "\n",
    "python3 中有六个标准的数据类型：\n",
    "\n",
    "- Number(数字) \n",
    "- String(字符串)\n",
    "- List(列表)\n",
    "- Tuple(元组)\n",
    "- Set(集合)\n",
    "- Dictionary(字典)\n",
    "\n",
    "\n",
    "**基本类型：**整型、浮点型、布尔型  \n",
    "**容器类型：**字符串、元组、列表、字典和集合  \n",
    "\n",
    "在Python 3里，只有一种整数类型 int，表示为长整型，没有 python2 中的 Long。\n",
    "\n",
    "六个标准数据类型中：\n",
    "\n",
    "- **不可变数据(3个)：** Number（数字）、String（字符串）、Tuple（元组）；\n",
    "\n",
    "- **可变数据(3个):**List（列表）、Dictionary（字典）、Set（集合）。\n",
    "\n",
    "\n",
    "### 4.1 数字(Number)\n",
    "\n",
    "数字数据类型用于存储数值\n",
    "\n",
    "数据类型是不允许改变的,这就意味着如果改变数字数据类型的值，将重新分配内存空间。\n",
    "\n",
    "var1 = 1\n",
    "var2 = 10\n",
    "\n",
    "您也可以使用del语句删除一些数字对象的引用。\n",
    "\n",
    "```md\n",
    "del var1[,var2[,var3[....,varN]]]\n",
    "```\n",
    "\n",
    "<b>获取类型信息</b>\n",
    "\n",
    "`type(object)` 获取类型信息\n",
    "\n",
    "`isinstance(object, classinfo)` 判断一个对象是否是一个已知的类型。\n",
    "\n",
    "```python\n",
    "print(isinstance(1, int))  # True\n",
    "\n",
    "```\n",
    "\n",
    "\n",
    "- `type()` 不会认为子类是一种父类类型，不考虑继承关系。\n",
    "- `isinstance()` 会认为子类是一种父类类型，考虑继承关系。\n",
    "\n",
    "如果要判断两个类型是否相同推荐使用 `isinstance()`。\n",
    "\n",
    "**类型转换**\n",
    "\n",
    "- 转换为整型 `int(x, base=10)`\n",
    "- 转换为字符串 `str(object='')`\n",
    "- 转换为浮点型 `float(x)`"
   ]
  },
  {
   "cell_type": "markdown",
   "id": "e9da1f2b",
   "metadata": {},
   "source": [
    "## 5. print() 函数\n",
    "\n",
    "```python\n",
    "print(*objects, sep=' ', end='\\n', file=sys.stdout, flush=False)\n",
    "```\n",
    "\n",
    "- 将对象以字符串表示的方式格式化输出到流文件对象file里。其中所有非关键字参数都按`str()`方式进行转换为字符串输出；\n",
    "- 关键字参数`sep`是实现分隔符，比如多个参数输出时想要输出中间的分隔字符；\n",
    "- 关键字参数`end`是输出结束时的字符，默认是换行符`\\n`；\n",
    "- 关键字参数`file`是定义流输出的文件，可以是标准的系统输出`sys.stdout`，也可以重定义为别的文件；\n",
    "- 关键字参数`flush`是立即把内容输出到流文件，不作缓存。\n",
    "\n",
    "举几个例子：[详细参考](https://www.runoob.com/python3/python3-inputoutput.html)"
   ]
  },
  {
   "cell_type": "code",
   "execution_count": 72,
   "id": "fadfe5d6",
   "metadata": {},
   "outputs": [
    {
     "name": "stdout",
     "output_type": "stream",
     "text": [
      "菜鸟教程网址： \"www.runoob.com!\"\n"
     ]
    }
   ],
   "source": [
    "print('{}网址： \"{}!\"'.format('菜鸟教程', 'www.runoob.com'))"
   ]
  },
  {
   "cell_type": "code",
   "execution_count": 73,
   "id": "7fea42ef",
   "metadata": {},
   "outputs": [
    {
     "name": "stdout",
     "output_type": "stream",
     "text": [
      "Google 和 Runoob\n"
     ]
    }
   ],
   "source": [
    "print('{0} 和 {1}'.format('Google', 'Runoob'))"
   ]
  },
  {
   "cell_type": "code",
   "execution_count": 74,
   "id": "b79b35d9",
   "metadata": {},
   "outputs": [
    {
     "name": "stdout",
     "output_type": "stream",
     "text": [
      "菜鸟教程网址： www.runoob.com\n"
     ]
    }
   ],
   "source": [
    "print('{name}网址： {site}'.format(name='菜鸟教程', site='www.runoob.com'))"
   ]
  },
  {
   "cell_type": "code",
   "execution_count": 75,
   "id": "8d1aa365",
   "metadata": {},
   "outputs": [
    {
     "name": "stdout",
     "output_type": "stream",
     "text": [
      "站点列表 Google, Runoob, 和 Taobao。\n"
     ]
    }
   ],
   "source": [
    "print('站点列表 {0}, {1}, 和 {other}。'.format('Google', 'Runoob', other='Taobao'))"
   ]
  },
  {
   "cell_type": "markdown",
   "id": "b7e190f9",
   "metadata": {},
   "source": [
    "## 练习题1：\n",
    "\n",
    "**[问题1]** 怎样对python中的代码进行注释？\n",
    "\n",
    "  解答：  \n",
    "  python注释可使用 整行注释符`#` 或 三引号区间注释符号，`'''txt'''`或`\"\"\" txt \"\"\"` ，引号中间的`txt`指具体注释内容，替换为您的具体注释描述内容。\n"
   ]
  },
  {
   "cell_type": "markdown",
   "id": "1fcfaca4",
   "metadata": {},
   "source": [
    "**[问题2]**python有哪些运算符，这些运算符的优先级是怎样的？\n",
    "\n",
    "  解答：\n",
    "  \n",
    " 运算符的优先级规律：\n",
    " \n",
    " - 一元运算符优于二元运算符。例如 `3 ** -2` 等价于 `3 ** (-2)`\n",
    " - 先算术运算，后移位运算，最后位运算。例如 `1 << 3 + 2 & 7`等价于 `(1 << (3 + 2)) & 7`。\n",
    " - 逻辑运算最后结合。例如`3 < 4 and 4 < 5`等价于`(3 < 4) and (4 < 5)`。\n",
    " \n",
    " \n",
    "|运算符|\t描述|\n",
    "|----|----|\n",
    "|**\t|指数 (最高优先级)|\n",
    "|~ + -\t|按位翻转, 一元加号和减号 (最后两个的方法名为 +@ 和 -@)|\n",
    "|* / % //|\t乘，除，求余数和取整除|\n",
    "|+ -\t|加法减法|\n",
    "|>> <<\t|右移，左移运算符|\n",
    "|&\t|位 'AND'|\n",
    "|^ \\|\t|位运算符|\n",
    "|<= < > >=\t|比较运算符|\n",
    "|== !=\t|等于运算符|\n",
    "|= %= /= //= -= += `*=`, `**=`\t|赋值运算符|\n"
   ]
  },
  {
   "cell_type": "markdown",
   "id": "6a2b5433",
   "metadata": {},
   "source": [
    "**[问题3]**python 中 `is`, `is not` 与 `==`, `!=` 的区别是什么？\n",
    "\n",
    " 解答：  \n",
    "\n",
    " 1. `is`,`is not`对比的是两个变量的内存地址；\n",
    " 2. `==`, `!=`对比的是两个变量的值；\n",
    " 3. 当两个变量指向的都是地址不变的类型（str）时，`is`, `is not` 与 `==`, `!=` 是完全等价的。\n",
    " 4. 当两个变量指向的是地址可变的类型(list,dict)时，则两者不同。"
   ]
  },
  {
   "cell_type": "code",
   "execution_count": 59,
   "id": "81bd9e86",
   "metadata": {},
   "outputs": [
    {
     "name": "stdout",
     "output_type": "stream",
     "text": [
      "True True\n",
      "False False\n"
     ]
    }
   ],
   "source": [
    "a = \"hello\"\n",
    "b = \"hello\"\n",
    "print(a is b, a == b)  # True True\n",
    "print(a is not b, a != b)  # False False"
   ]
  },
  {
   "cell_type": "code",
   "execution_count": 60,
   "id": "949416ec",
   "metadata": {},
   "outputs": [
    {
     "name": "stdout",
     "output_type": "stream",
     "text": [
      "False True\n",
      "True False\n"
     ]
    }
   ],
   "source": [
    "a = [\"hello\"]\n",
    "b = [\"hello\"]\n",
    "print(a is b, a == b)  # False True\n",
    "print(a is not b, a != b)  # True False"
   ]
  },
  {
   "cell_type": "markdown",
   "id": "c0c089dc",
   "metadata": {},
   "source": [
    "**[问题4]** python 中包含哪些数据类型？这些数据类型之间如何转换？\n",
    "\n",
    "解答：\n",
    "\n",
    "python3的数据类型有六种：  \n",
    "- 基本类型：(Number)数字->整型，浮点型，布尔型，复数\n",
    "- 容器类型：列表(List)、字典(dict)、元组(Tuple)、字符串(string)和集合(set）\n",
    "\n",
    "数据类型转换：\n",
    "\n",
    "我们需要对数据内置的类型进行转换，数据类型的转换，你只需要将数据类型作为函数名即可。\n",
    "\n",
    "- int(x) 将x转换为一个整数。\n",
    "\n",
    "- float(x) 将x转换到一个浮点数。\n",
    "\n",
    "- complex(x) 将x转换到一个复数，实数部分为 x，虚数部分为 0。\n",
    "\n",
    "- complex(x, y) 将 x 和 y 转换到一个复数，实数部分为 x，虚数部分为 y。x 和 y 是数字表达式。\n",
    "\n",
    "\n"
   ]
  },
  {
   "cell_type": "markdown",
   "id": "6f19daaf",
   "metadata": {},
   "source": [
    "\n",
    "## 参考资料：\n",
    "\n",
    "1. [Python编程时光](http://pythontime.iswbm.com/en/latest/)"
   ]
  },
  {
   "cell_type": "code",
   "execution_count": null,
   "id": "ad4af39e",
   "metadata": {},
   "outputs": [],
   "source": []
  }
 ],
 "metadata": {
  "kernelspec": {
   "display_name": "Python 3 (ipykernel)",
   "language": "python",
   "name": "python3"
  },
  "language_info": {
   "codemirror_mode": {
    "name": "ipython",
    "version": 3
   },
   "file_extension": ".py",
   "mimetype": "text/x-python",
   "name": "python",
   "nbconvert_exporter": "python",
   "pygments_lexer": "ipython3",
   "version": "3.8.8"
  }
 },
 "nbformat": 4,
 "nbformat_minor": 5
}
