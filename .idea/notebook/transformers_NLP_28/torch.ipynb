{
 "cells": [
  {
   "cell_type": "code",
   "execution_count": 1,
   "metadata": {
    "collapsed": false
   },
   "outputs": [
    {
     "name": "stdout",
     "output_type": "stream",
     "text": [
      "Looking in indexes: https://pypi.mirrors.ustc.edu.cn/simple/\n",
      "Processing ./external-wheels/cpu/torch-1.9.0+cpu-cp37-cp37m-linux_x86_64.whl\n",
      "Collecting typing-extensions (from torch==1.9.0+cpu)\n",
      "  Using cached https://mirrors.bfsu.edu.cn/pypi/web/packages/2e/35/6c4fff5ab443b57116cb1aad46421fb719bed2825664e8fe77d66d99bcbc/typing_extensions-3.10.0.0-py3-none-any.whl\n",
      "\u001b[31mERROR: torchvision 0.9.1+cpu has requirement torch==1.8.1, but you'll have torch 1.9.0+cpu which is incompatible.\u001b[0m\n",
      "Installing collected packages: typing-extensions, torch\n",
      "Successfully installed torch-1.9.0+cpu typing-extensions-3.10.0.0\n",
      "Looking in indexes: https://pypi.mirrors.ustc.edu.cn/simple/\n",
      "Processing ./external-wheels/cpu/torchvision-0.9.1+cpu-cp37-cp37m-linux_x86_64.whl\n",
      "Collecting pillow>=4.1.1 (from torchvision==0.9.1+cpu)\n",
      "  Using cached https://mirrors.bfsu.edu.cn/pypi/web/packages/8e/7a/b047f6f80fdb02c0cca1d3761d71e9800bcf6d4874b71c9e6548ec59e156/Pillow-8.3.1-cp37-cp37m-manylinux_2_5_x86_64.manylinux1_x86_64.whl\n",
      "Collecting numpy (from torchvision==0.9.1+cpu)\n",
      "  Using cached https://mirrors.bfsu.edu.cn/pypi/web/packages/f9/d5/18336e9828d2f07beb0bcd3849c660001bedea50e6219627315968900ad6/numpy-1.21.1-cp37-cp37m-manylinux_2_12_x86_64.manylinux2010_x86_64.whl\n",
      "Collecting torch==1.8.1 (from torchvision==0.9.1+cpu)\n",
      "  Using cached https://mirrors.bfsu.edu.cn/pypi/web/packages/56/74/6fc9dee50f7c93d6b7d9644554bdc9692f3023fa5d1de779666e6bf8ae76/torch-1.8.1-cp37-cp37m-manylinux1_x86_64.whl\n",
      "Collecting typing-extensions (from torch==1.8.1->torchvision==0.9.1+cpu)\n",
      "  Using cached https://mirrors.bfsu.edu.cn/pypi/web/packages/2e/35/6c4fff5ab443b57116cb1aad46421fb719bed2825664e8fe77d66d99bcbc/typing_extensions-3.10.0.0-py3-none-any.whl\n",
      "Installing collected packages: pillow, numpy, typing-extensions, torch, torchvision\n",
      "Successfully installed numpy-1.21.1 pillow-8.3.1 torch-1.8.1 torchvision-0.9.1+cpu typing-extensions-3.10.0.0\n",
      "\u001b[33mWARNING: Target directory /home/aistudio/external-libraries/__pycache__ already exists. Specify --upgrade to force replacement.\u001b[0m\n",
      "\u001b[33mWARNING: Target directory /home/aistudio/external-libraries/typing_extensions-3.10.0.0.dist-info already exists. Specify --upgrade to force replacement.\u001b[0m\n",
      "\u001b[33mWARNING: Target directory /home/aistudio/external-libraries/typing_extensions.py already exists. Specify --upgrade to force replacement.\u001b[0m\n",
      "\u001b[33mWARNING: Target directory /home/aistudio/external-libraries/caffe2 already exists. Specify --upgrade to force replacement.\u001b[0m\n",
      "\u001b[33mWARNING: Target directory /home/aistudio/external-libraries/torch already exists. Specify --upgrade to force replacement.\u001b[0m\n",
      "\u001b[33mWARNING: Target directory /home/aistudio/external-libraries/bin already exists. Specify --upgrade to force replacement.\u001b[0m\n"
     ]
    }
   ],
   "source": [
    "# cpu环境  持久化安装使用-t /home/aistudio/external-libraries\r\n",
    "!pip install external-wheels/cpu/torch-1.9.0+cpu-cp37-cp37m-linux_x86_64.whl -t /home/aistudio/external-libraries\r\n",
    "!pip install external-wheels/cpu/torchvision-0.9.1+cpu-cp37-cp37m-linux_x86_64.whl -t /home/aistudio/external-libraries\r\n",
    "# 其他环境从https://download.pytorch.org/whl/torch_stable.html 下载"
   ]
  },
  {
   "cell_type": "code",
   "execution_count": 1,
   "metadata": {
    "collapsed": false
   },
   "outputs": [],
   "source": [
    "# 添加import目录\n",
    "import sys \n",
    "sys.path.append('/home/aistudio/external-libraries')\n",
    "# 手动import\n",
    "from import_tool import *"
   ]
  },
  {
   "cell_type": "code",
   "execution_count": 2,
   "metadata": {
    "collapsed": false
   },
   "outputs": [
    {
     "name": "stdout",
     "output_type": "stream",
     "text": [
      "tensor([[[[1., 1., 1., 1., 1., 1.],\n",
      "          [1., 1., 1., 1., 1., 1.],\n",
      "          [1., 1., 1., 1., 1., 1.],\n",
      "          [1., 1., 1., 1., 1., 1.],\n",
      "          [1., 1., 1., 1., 1., 1.],\n",
      "          [1., 1., 1., 1., 1., 1.]]]])\n"
     ]
    }
   ],
   "source": [
    "# demo\r\n",
    "x=torch.ones(1,1,6,6)\r\n",
    "print(x)"
   ]
  },
  {
   "cell_type": "code",
   "execution_count": 3,
   "metadata": {
    "collapsed": false
   },
   "outputs": [
    {
     "name": "stdout",
     "output_type": "stream",
     "text": [
      "Looking in indexes: https://pypi.mirrors.ustc.edu.cn/simple/\n",
      "Collecting transformers==4.4.2 (from -r workspace/learn-nlp-with-transformers-main/requirements.txt (line 1))\n",
      "  Using cached https://mirrors.bfsu.edu.cn/pypi/web/packages/ed/d5/f4157a376b8a79489a76ce6cfe147f4f3be1e029b7144fa7b8432e8acb26/transformers-4.4.2-py3-none-any.whl\n",
      "Collecting datasets==1.6.2 (from -r workspace/learn-nlp-with-transformers-main/requirements.txt (line 2))\n",
      "  Using cached https://mirrors.bfsu.edu.cn/pypi/web/packages/46/1a/b9f9b3bfef624686ae81c070f0a6bb635047b17cdb3698c7ad01281e6f9a/datasets-1.6.2-py3-none-any.whl\n",
      "Requirement already satisfied: notebook in /opt/conda/envs/python35-paddle120-env/lib/python3.7/site-packages (from -r workspace/learn-nlp-with-transformers-main/requirements.txt (line 3)) (5.7.8)\n",
      "Collecting torch==1.9.0 (from -r workspace/learn-nlp-with-transformers-main/requirements.txt (line 4))\n",
      "\u001b[?25l  Downloading https://mirrors.bfsu.edu.cn/pypi/web/packages/d2/a9/b3cea4a97ffabd6639e71608814dbd08081e202e8ac9580250273c0541ff/torch-1.9.0-cp37-cp37m-manylinux1_x86_64.whl (831.4MB)\n",
      "\u001b[K     |███████████████████████▉        | 618.4MB 99.4MB/s eta 0:00:03"
     ]
    },
    {
     "name": "stderr",
     "output_type": "stream",
     "text": [
      "IOPub data rate exceeded.\n",
      "The notebook server will temporarily stop sending output\n",
      "to the client in order to avoid crashing it.\n",
      "To change this limit, set the config variable\n",
      "`--NotebookApp.iopub_data_rate_limit`.\n",
      "\n",
      "Current values:\n",
      "NotebookApp.iopub_data_rate_limit=1000000.0 (bytes/sec)\n",
      "NotebookApp.rate_limit_window=3.0 (secs)\n",
      "\n"
     ]
    },
    {
     "name": "stdout",
     "output_type": "stream",
     "text": [
      "\u001b[K     |████████████████████████████████| 831.4MB 40kB/s s eta 0:00:01\n",
      "\u001b[?25hRequirement already satisfied: sklearn in /opt/conda/envs/python35-paddle120-env/lib/python3.7/site-packages (from -r workspace/learn-nlp-with-transformers-main/requirements.txt (line 5)) (0.0)\n",
      "Requirement already satisfied: scipy in /opt/conda/envs/python35-paddle120-env/lib/python3.7/site-packages (from -r workspace/learn-nlp-with-transformers-main/requirements.txt (line 6)) (1.3.0)\n",
      "Collecting regex!=2019.12.17 (from transformers==4.4.2->-r workspace/learn-nlp-with-transformers-main/requirements.txt (line 1))\n",
      "\u001b[?25l  Downloading https://mirrors.bfsu.edu.cn/pypi/web/packages/f2/3d/4e66a38e908dfe924b5c61e4e1f27a2b8cf233dbea8eff76b0d3300af31c/regex-2021.8.3-cp37-cp37m-manylinux_2_5_x86_64.manylinux1_x86_64.manylinux_2_12_x86_64.manylinux2010_x86_64.whl (666kB)\n",
      "\u001b[K     |████████████████████████████████| 675kB 3.4MB/s eta 0:00:01\n",
      "\u001b[?25hCollecting packaging (from transformers==4.4.2->-r workspace/learn-nlp-with-transformers-main/requirements.txt (line 1))\n",
      "\u001b[?25l  Downloading https://mirrors.bfsu.edu.cn/pypi/web/packages/3c/77/e2362b676dc5008d81be423070dd9577fa03be5da2ba1105811900fda546/packaging-21.0-py3-none-any.whl (40kB)\n",
      "\u001b[K     |████████████████████████████████| 40kB 28.6MB/s eta 0:00:01\n",
      "\u001b[?25hCollecting tokenizers<0.11,>=0.10.1 (from transformers==4.4.2->-r workspace/learn-nlp-with-transformers-main/requirements.txt (line 1))\n",
      "\u001b[?25l  Downloading https://mirrors.bfsu.edu.cn/pypi/web/packages/d4/e2/df3543e8ffdab68f5acc73f613de9c2b155ac47f162e725dcac87c521c11/tokenizers-0.10.3-cp37-cp37m-manylinux_2_5_x86_64.manylinux1_x86_64.manylinux_2_12_x86_64.manylinux2010_x86_64.whl (3.3MB)\n",
      "\u001b[K     |████████████████████████████████| 3.3MB 54.0MB/s eta 0:00:01\n",
      "\u001b[?25hRequirement already satisfied: importlib-metadata; python_version < \"3.8\" in /opt/conda/envs/python35-paddle120-env/lib/python3.7/site-packages (from transformers==4.4.2->-r workspace/learn-nlp-with-transformers-main/requirements.txt (line 1)) (0.23)\n",
      "Collecting sacremoses (from transformers==4.4.2->-r workspace/learn-nlp-with-transformers-main/requirements.txt (line 1))\n",
      "\u001b[?25l  Downloading https://mirrors.bfsu.edu.cn/pypi/web/packages/75/ee/67241dc87f266093c533a2d4d3d69438e57d7a90abb216fa076e7d475d4a/sacremoses-0.0.45-py3-none-any.whl (895kB)\n",
      "\u001b[K     |████████████████████████████████| 901kB 65.9MB/s eta 0:00:01\n",
      "\u001b[?25hCollecting filelock (from transformers==4.4.2->-r workspace/learn-nlp-with-transformers-main/requirements.txt (line 1))\n",
      "  Downloading https://mirrors.bfsu.edu.cn/pypi/web/packages/93/83/71a2ee6158bb9f39a90c0dea1637f81d5eef866e188e1971a1b1ab01a35a/filelock-3.0.12-py3-none-any.whl\n",
      "Collecting numpy>=1.17 (from transformers==4.4.2->-r workspace/learn-nlp-with-transformers-main/requirements.txt (line 1))\n",
      "\u001b[?25l  Downloading https://mirrors.bfsu.edu.cn/pypi/web/packages/f9/d5/18336e9828d2f07beb0bcd3849c660001bedea50e6219627315968900ad6/numpy-1.21.1-cp37-cp37m-manylinux_2_12_x86_64.manylinux2010_x86_64.whl (15.7MB)\n",
      "\u001b[K     |████████████████████████████████| 15.7MB 63.9MB/s eta 0:00:01�                               | 266kB 63.9MB/s eta 0:00:01\n",
      "\u001b[?25hRequirement already satisfied: tqdm>=4.27 in /opt/conda/envs/python35-paddle120-env/lib/python3.7/site-packages (from transformers==4.4.2->-r workspace/learn-nlp-with-transformers-main/requirements.txt (line 1)) (4.36.1)\n",
      "Requirement already satisfied: requests in /opt/conda/envs/python35-paddle120-env/lib/python3.7/site-packages (from transformers==4.4.2->-r workspace/learn-nlp-with-transformers-main/requirements.txt (line 1)) (2.22.0)\n",
      "Collecting huggingface-hub<0.1.0 (from datasets==1.6.2->-r workspace/learn-nlp-with-transformers-main/requirements.txt (line 2))\n",
      "\u001b[?25l  Downloading https://mirrors.bfsu.edu.cn/pypi/web/packages/07/77/9ee7012e683db48e2ee9be9156f9a1033d9035977499046d755e218360e0/huggingface_hub-0.0.15-py3-none-any.whl (43kB)\n",
      "\u001b[K     |████████████████████████████████| 51kB 34.1MB/s eta 0:00:01\n",
      "\u001b[?25hCollecting dill (from datasets==1.6.2->-r workspace/learn-nlp-with-transformers-main/requirements.txt (line 2))\n",
      "\u001b[?25l  Downloading https://mirrors.bfsu.edu.cn/pypi/web/packages/b6/c3/973676ceb86b60835bb3978c6db67a5dc06be6cfdbd14ef0f5a13e3fc9fd/dill-0.3.4-py2.py3-none-any.whl (86kB)\n",
      "\u001b[K     |████████████████████████████████| 92kB 43.4MB/s eta 0:00:01\n",
      "\u001b[?25hCollecting fsspec (from datasets==1.6.2->-r workspace/learn-nlp-with-transformers-main/requirements.txt (line 2))\n",
      "\u001b[?25l  Downloading https://mirrors.bfsu.edu.cn/pypi/web/packages/40/e1/7111d8afc76ee3171f4f99592cd29bac9d233ae1aa34623011506f955434/fsspec-2021.7.0-py3-none-any.whl (118kB)\n",
      "\u001b[K     |████████████████████████████████| 122kB 65.8MB/s eta 0:00:01\n",
      "\u001b[?25hRequirement already satisfied: pandas in /opt/conda/envs/python35-paddle120-env/lib/python3.7/site-packages (from datasets==1.6.2->-r workspace/learn-nlp-with-transformers-main/requirements.txt (line 2)) (0.23.4)\n",
      "Collecting pyarrow>=1.0.0<4.0.0 (from datasets==1.6.2->-r workspace/learn-nlp-with-transformers-main/requirements.txt (line 2))\n",
      "\u001b[?25l  Downloading https://mirrors.bfsu.edu.cn/pypi/web/packages/f2/ce/2e65f2453dc5099805c77cffb84c459e562eb5ddcc96ffea834a929c8f70/pyarrow-5.0.0-cp37-cp37m-manylinux2010_x86_64.whl (22.6MB)\n",
      "\u001b[K     |████████████████████████████████| 22.6MB 6.6MB/s eta 0:00:01\n",
      "\u001b[?25hCollecting multiprocess (from datasets==1.6.2->-r workspace/learn-nlp-with-transformers-main/requirements.txt (line 2))\n",
      "\u001b[?25l  Downloading https://mirrors.bfsu.edu.cn/pypi/web/packages/aa/d8/d7bbcef5c03890f5fe983d8419b0c5236af3657c5aa9bddf1991a6ed813a/multiprocess-0.70.12.2-py37-none-any.whl (112kB)\n",
      "\u001b[K     |████████████████████████████████| 112kB 67.2MB/s eta 0:00:01\n",
      "\u001b[?25hCollecting xxhash (from datasets==1.6.2->-r workspace/learn-nlp-with-transformers-main/requirements.txt (line 2))\n",
      "\u001b[?25l  Downloading https://mirrors.bfsu.edu.cn/pypi/web/packages/7d/4f/0a862cad26aa2ed7a7cd87178cbbfa824fc1383e472d63596a0d018374e7/xxhash-2.0.2-cp37-cp37m-manylinux2010_x86_64.whl (243kB)\n",
      "\u001b[K     |████████████████████████████████| 245kB 4.1MB/s eta 0:00:01\n",
      "\u001b[?25hRequirement already satisfied: jinja2 in /opt/conda/envs/python35-paddle120-env/lib/python3.7/site-packages (from notebook->-r workspace/learn-nlp-with-transformers-main/requirements.txt (line 3)) (2.10.3)\n",
      "Requirement already satisfied: ipython-genutils in /opt/conda/envs/python35-paddle120-env/lib/python3.7/site-packages (from notebook->-r workspace/learn-nlp-with-transformers-main/requirements.txt (line 3)) (0.2.0)\n",
      "Requirement already satisfied: jupyter-core>=4.4.0 in /opt/conda/envs/python35-paddle120-env/lib/python3.7/site-packages (from notebook->-r workspace/learn-nlp-with-transformers-main/requirements.txt (line 3)) (4.6.0)\n",
      "Requirement already satisfied: ipykernel in /opt/conda/envs/python35-paddle120-env/lib/python3.7/site-packages (from notebook->-r workspace/learn-nlp-with-transformers-main/requirements.txt (line 3)) (5.1.0)\n",
      "Requirement already satisfied: tornado<7,>=4.1 in /opt/conda/envs/python35-paddle120-env/lib/python3.7/site-packages (from notebook->-r workspace/learn-nlp-with-transformers-main/requirements.txt (line 3)) (6.0.3)\n",
      "Requirement already satisfied: jupyter-client>=5.2.0 in /opt/conda/envs/python35-paddle120-env/lib/python3.7/site-packages (from notebook->-r workspace/learn-nlp-with-transformers-main/requirements.txt (line 3)) (5.3.4)\n",
      "Requirement already satisfied: Send2Trash in /opt/conda/envs/python35-paddle120-env/lib/python3.7/site-packages (from notebook->-r workspace/learn-nlp-with-transformers-main/requirements.txt (line 3)) (1.5.0)\n",
      "Requirement already satisfied: nbformat in /opt/conda/envs/python35-paddle120-env/lib/python3.7/site-packages (from notebook->-r workspace/learn-nlp-with-transformers-main/requirements.txt (line 3)) (4.4.0)\n",
      "Requirement already satisfied: terminado>=0.8.1 in /opt/conda/envs/python35-paddle120-env/lib/python3.7/site-packages (from notebook->-r workspace/learn-nlp-with-transformers-main/requirements.txt (line 3)) (0.8.2)\n",
      "Requirement already satisfied: nbconvert in /opt/conda/envs/python35-paddle120-env/lib/python3.7/site-packages (from notebook->-r workspace/learn-nlp-with-transformers-main/requirements.txt (line 3)) (5.3.1)\n",
      "Requirement already satisfied: prometheus-client in /opt/conda/envs/python35-paddle120-env/lib/python3.7/site-packages (from notebook->-r workspace/learn-nlp-with-transformers-main/requirements.txt (line 3)) (0.5.0)\n",
      "Requirement already satisfied: traitlets>=4.2.1 in /opt/conda/envs/python35-paddle120-env/lib/python3.7/site-packages (from notebook->-r workspace/learn-nlp-with-transformers-main/requirements.txt (line 3)) (4.3.3)\n",
      "Requirement already satisfied: pyzmq>=17 in /opt/conda/envs/python35-paddle120-env/lib/python3.7/site-packages (from notebook->-r workspace/learn-nlp-with-transformers-main/requirements.txt (line 3)) (18.0.1)\n",
      "Collecting typing-extensions (from torch==1.9.0->-r workspace/learn-nlp-with-transformers-main/requirements.txt (line 4))\n",
      "  Downloading https://mirrors.bfsu.edu.cn/pypi/web/packages/2e/35/6c4fff5ab443b57116cb1aad46421fb719bed2825664e8fe77d66d99bcbc/typing_extensions-3.10.0.0-py3-none-any.whl\n",
      "Requirement already satisfied: scikit-learn in /opt/conda/envs/python35-paddle120-env/lib/python3.7/site-packages (from sklearn->-r workspace/learn-nlp-with-transformers-main/requirements.txt (line 5)) (0.20.0)\n",
      "Requirement already satisfied: pyparsing>=2.0.2 in /opt/conda/envs/python35-paddle120-env/lib/python3.7/site-packages (from packaging->transformers==4.4.2->-r workspace/learn-nlp-with-transformers-main/requirements.txt (line 1)) (2.4.2)\n",
      "Requirement already satisfied: zipp>=0.5 in /opt/conda/envs/python35-paddle120-env/lib/python3.7/site-packages (from importlib-metadata; python_version < \"3.8\"->transformers==4.4.2->-r workspace/learn-nlp-with-transformers-main/requirements.txt (line 1)) (0.6.0)\n",
      "Requirement already satisfied: six in /opt/conda/envs/python35-paddle120-env/lib/python3.7/site-packages (from sacremoses->transformers==4.4.2->-r workspace/learn-nlp-with-transformers-main/requirements.txt (line 1)) (1.12.0)\n",
      "Requirement already satisfied: click in /opt/conda/envs/python35-paddle120-env/lib/python3.7/site-packages (from sacremoses->transformers==4.4.2->-r workspace/learn-nlp-with-transformers-main/requirements.txt (line 1)) (7.0)\n",
      "Requirement already satisfied: joblib in /opt/conda/envs/python35-paddle120-env/lib/python3.7/site-packages (from sacremoses->transformers==4.4.2->-r workspace/learn-nlp-with-transformers-main/requirements.txt (line 1)) (0.14.1)\n",
      "Requirement already satisfied: certifi>=2017.4.17 in /opt/conda/envs/python35-paddle120-env/lib/python3.7/site-packages (from requests->transformers==4.4.2->-r workspace/learn-nlp-with-transformers-main/requirements.txt (line 1)) (2019.9.11)\n",
      "Requirement already satisfied: chardet<3.1.0,>=3.0.2 in /opt/conda/envs/python35-paddle120-env/lib/python3.7/site-packages (from requests->transformers==4.4.2->-r workspace/learn-nlp-with-transformers-main/requirements.txt (line 1)) (3.0.4)\n",
      "Requirement already satisfied: idna<2.9,>=2.5 in /opt/conda/envs/python35-paddle120-env/lib/python3.7/site-packages (from requests->transformers==4.4.2->-r workspace/learn-nlp-with-transformers-main/requirements.txt (line 1)) (2.8)\n",
      "Requirement already satisfied: urllib3!=1.25.0,!=1.25.1,<1.26,>=1.21.1 in /opt/conda/envs/python35-paddle120-env/lib/python3.7/site-packages (from requests->transformers==4.4.2->-r workspace/learn-nlp-with-transformers-main/requirements.txt (line 1)) (1.25.6)\n",
      "Requirement already satisfied: pytz>=2011k in /opt/conda/envs/python35-paddle120-env/lib/python3.7/site-packages (from pandas->datasets==1.6.2->-r workspace/learn-nlp-with-transformers-main/requirements.txt (line 2)) (2019.3)\n",
      "Requirement already satisfied: python-dateutil>=2.5.0 in /opt/conda/envs/python35-paddle120-env/lib/python3.7/site-packages (from pandas->datasets==1.6.2->-r workspace/learn-nlp-with-transformers-main/requirements.txt (line 2)) (2.8.0)\n",
      "Requirement already satisfied: MarkupSafe>=0.23 in /opt/conda/envs/python35-paddle120-env/lib/python3.7/site-packages (from jinja2->notebook->-r workspace/learn-nlp-with-transformers-main/requirements.txt (line 3)) (1.1.1)\n",
      "Requirement already satisfied: ipython>=5.0.0 in /opt/conda/envs/python35-paddle120-env/lib/python3.7/site-packages (from ipykernel->notebook->-r workspace/learn-nlp-with-transformers-main/requirements.txt (line 3)) (7.8.0)\n",
      "Requirement already satisfied: jsonschema!=2.5.0,>=2.4 in /opt/conda/envs/python35-paddle120-env/lib/python3.7/site-packages (from nbformat->notebook->-r workspace/learn-nlp-with-transformers-main/requirements.txt (line 3)) (3.1.1)\n",
      "Requirement already satisfied: bleach in /opt/conda/envs/python35-paddle120-env/lib/python3.7/site-packages (from nbconvert->notebook->-r workspace/learn-nlp-with-transformers-main/requirements.txt (line 3)) (3.1.0)\n",
      "Requirement already satisfied: pandocfilters>=1.4.1 in /opt/conda/envs/python35-paddle120-env/lib/python3.7/site-packages (from nbconvert->notebook->-r workspace/learn-nlp-with-transformers-main/requirements.txt (line 3)) (1.4.2)\n",
      "Requirement already satisfied: pygments in /opt/conda/envs/python35-paddle120-env/lib/python3.7/site-packages (from nbconvert->notebook->-r workspace/learn-nlp-with-transformers-main/requirements.txt (line 3)) (2.4.2)\n",
      "Requirement already satisfied: testpath in /opt/conda/envs/python35-paddle120-env/lib/python3.7/site-packages (from nbconvert->notebook->-r workspace/learn-nlp-with-transformers-main/requirements.txt (line 3)) (0.4.2)\n",
      "Requirement already satisfied: mistune>=0.7.4 in /opt/conda/envs/python35-paddle120-env/lib/python3.7/site-packages (from nbconvert->notebook->-r workspace/learn-nlp-with-transformers-main/requirements.txt (line 3)) (0.8.4)\n",
      "Requirement already satisfied: entrypoints>=0.2.2 in /opt/conda/envs/python35-paddle120-env/lib/python3.7/site-packages (from nbconvert->notebook->-r workspace/learn-nlp-with-transformers-main/requirements.txt (line 3)) (0.3)\n",
      "Requirement already satisfied: decorator in /opt/conda/envs/python35-paddle120-env/lib/python3.7/site-packages (from traitlets>=4.2.1->notebook->-r workspace/learn-nlp-with-transformers-main/requirements.txt (line 3)) (4.4.0)\n",
      "Requirement already satisfied: more-itertools in /opt/conda/envs/python35-paddle120-env/lib/python3.7/site-packages (from zipp>=0.5->importlib-metadata; python_version < \"3.8\"->transformers==4.4.2->-r workspace/learn-nlp-with-transformers-main/requirements.txt (line 1)) (7.2.0)\n",
      "Requirement already satisfied: setuptools>=18.5 in /opt/conda/envs/python35-paddle120-env/lib/python3.7/site-packages (from ipython>=5.0.0->ipykernel->notebook->-r workspace/learn-nlp-with-transformers-main/requirements.txt (line 3)) (41.4.0)\n",
      "Requirement already satisfied: pickleshare in /opt/conda/envs/python35-paddle120-env/lib/python3.7/site-packages (from ipython>=5.0.0->ipykernel->notebook->-r workspace/learn-nlp-with-transformers-main/requirements.txt (line 3)) (0.7.5)\n",
      "Requirement already satisfied: pexpect; sys_platform != \"win32\" in /opt/conda/envs/python35-paddle120-env/lib/python3.7/site-packages (from ipython>=5.0.0->ipykernel->notebook->-r workspace/learn-nlp-with-transformers-main/requirements.txt (line 3)) (4.7.0)\n",
      "Requirement already satisfied: jedi>=0.10 in /opt/conda/envs/python35-paddle120-env/lib/python3.7/site-packages (from ipython>=5.0.0->ipykernel->notebook->-r workspace/learn-nlp-with-transformers-main/requirements.txt (line 3)) (0.13.3)\n",
      "Requirement already satisfied: backcall in /opt/conda/envs/python35-paddle120-env/lib/python3.7/site-packages (from ipython>=5.0.0->ipykernel->notebook->-r workspace/learn-nlp-with-transformers-main/requirements.txt (line 3)) (0.1.0)\n",
      "Requirement already satisfied: prompt-toolkit<2.1.0,>=2.0.0 in /opt/conda/envs/python35-paddle120-env/lib/python3.7/site-packages (from ipython>=5.0.0->ipykernel->notebook->-r workspace/learn-nlp-with-transformers-main/requirements.txt (line 3)) (2.0.10)\n",
      "Requirement already satisfied: pyrsistent>=0.14.0 in /opt/conda/envs/python35-paddle120-env/lib/python3.7/site-packages (from jsonschema!=2.5.0,>=2.4->nbformat->notebook->-r workspace/learn-nlp-with-transformers-main/requirements.txt (line 3)) (0.15.4)\n",
      "Requirement already satisfied: attrs>=17.4.0 in /opt/conda/envs/python35-paddle120-env/lib/python3.7/site-packages (from jsonschema!=2.5.0,>=2.4->nbformat->notebook->-r workspace/learn-nlp-with-transformers-main/requirements.txt (line 3)) (19.2.0)\n",
      "Requirement already satisfied: webencodings in /opt/conda/envs/python35-paddle120-env/lib/python3.7/site-packages (from bleach->nbconvert->notebook->-r workspace/learn-nlp-with-transformers-main/requirements.txt (line 3)) (0.5.1)\n",
      "Requirement already satisfied: ptyprocess>=0.5 in /opt/conda/envs/python35-paddle120-env/lib/python3.7/site-packages (from pexpect; sys_platform != \"win32\"->ipython>=5.0.0->ipykernel->notebook->-r workspace/learn-nlp-with-transformers-main/requirements.txt (line 3)) (0.6.0)\n",
      "Requirement already satisfied: parso>=0.3.0 in /opt/conda/envs/python35-paddle120-env/lib/python3.7/site-packages (from jedi>=0.10->ipython>=5.0.0->ipykernel->notebook->-r workspace/learn-nlp-with-transformers-main/requirements.txt (line 3)) (0.5.1)\n",
      "Requirement already satisfied: wcwidth in /opt/conda/envs/python35-paddle120-env/lib/python3.7/site-packages (from prompt-toolkit<2.1.0,>=2.0.0->ipython>=5.0.0->ipykernel->notebook->-r workspace/learn-nlp-with-transformers-main/requirements.txt (line 3)) (0.1.7)\n",
      "\u001b[31mERROR: parl 1.1.2 has requirement pyarrow==0.13.0, but you'll have pyarrow 5.0.0 which is incompatible.\u001b[0m\n",
      "Installing collected packages: regex, packaging, tokenizers, sacremoses, filelock, numpy, transformers, typing-extensions, huggingface-hub, dill, fsspec, pyarrow, multiprocess, xxhash, datasets, torch\n",
      "  Found existing installation: numpy 1.16.4\n",
      "    Uninstalling numpy-1.16.4:\n",
      "      Successfully uninstalled numpy-1.16.4\n",
      "  Found existing installation: pyarrow 0.13.0\n",
      "    Uninstalling pyarrow-0.13.0:\n",
      "      Successfully uninstalled pyarrow-0.13.0\n",
      "Successfully installed datasets-1.6.2 dill-0.3.4 filelock-3.0.12 fsspec-2021.7.0 huggingface-hub-0.0.15 multiprocess-0.70.12.2 numpy-1.21.1 packaging-21.0 pyarrow-5.0.0 regex-2021.8.3 sacremoses-0.0.45 tokenizers-0.10.3 torch-1.9.0 transformers-4.4.2 typing-extensions-3.10.0.0 xxhash-2.0.2\n"
     ]
    }
   ],
   "source": [
    "!pip install -r workspace/learn-nlp-with-transformers-main/requirements.txt "
   ]
  },
  {
   "cell_type": "code",
   "execution_count": null,
   "metadata": {
    "collapsed": false
   },
   "outputs": [],
   "source": []
  }
 ],
 "metadata": {
  "kernelspec": {
   "display_name": "PaddlePaddle 1.5.1 (Python 3.5)",
   "language": "python",
   "name": "py35-paddle1.2.0"
  },
  "language_info": {
   "codemirror_mode": {
    "name": "ipython",
    "version": 3
   },
   "file_extension": ".py",
   "mimetype": "text/x-python",
   "name": "python",
   "nbconvert_exporter": "python",
   "pygments_lexer": "ipython3",
   "version": "3.7.4"
  }
 },
 "nbformat": 4,
 "nbformat_minor": 1
}
