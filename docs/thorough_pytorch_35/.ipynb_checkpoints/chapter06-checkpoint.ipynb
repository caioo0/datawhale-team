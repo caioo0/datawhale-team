{
 "cells": [
  {
   "cell_type": "markdown",
   "id": "278f638e",
   "metadata": {},
   "source": [
    "# PyTorch进阶训练技巧\n",
    "\n",
    "\n",
    "## 6.1 自定义损失函数\n",
    "\n",
    "`torch.nn`模块提供的损失函数有：`MSELoss`,`L1Loss`,`BCELoss`等，也有非官方提供的Loss:`DiceLoss`,`HuberLoss`,`SobolevLoss`,这些非通用损失函数的实现需要我们通过自定义损失函数来实现。\n",
    "\n",
    "\n",
    "### 6.1.1  以函数方式定义\n"
   ]
  },
  {
   "cell_type": "code",
   "execution_count": null,
   "id": "a75f8bd7",
   "metadata": {},
   "outputs": [],
   "source": [
    "def my_loss(output,target):\n",
    "    loss = torch.mean((output-target)**2)\n",
    "    return loss"
   ]
  },
  {
   "cell_type": "markdown",
   "id": "29a627b2",
   "metadata": {},
   "source": [
    "### 6.1.2 以类方式定义"
   ]
  },
  {
   "cell_type": "markdown",
   "id": "7d2e7ab6",
   "metadata": {},
   "source": [
    "比起函数丁依依的方式，以类方式定义更加常用。在以类方式定义损失函数时，我们如果看每一个损失函数的继承关系我们就可以发现`Loss`函数部分继承自`_loss`, 部分继承自`_WeightedLoss`, 而`_WeightedLoss`继承自`_loss`，` _loss`继承自 **nn.Module**。\n",
    "\n",
    "\n",
    "DiceLoss是一种在分割领域常见的损失函数，定义如下：\n",
    "\n",
    "$$\n",
    "DSC = \\frac{2|X∩Y|}{|X|+|Y|}\n",
    "$$\n",
    "\n",
    "实现代码如下："
   ]
  },
  {
   "cell_type": "code",
   "execution_count": null,
   "id": "d153893b",
   "metadata": {},
   "outputs": [],
   "source": [
    "import torch.nn as nn\n",
    "\n",
    "class DiceLoss(nn.Module):\n",
    "    def __init__(self,weight=None,size_average=True):\n",
    "        super(DiceLoss,self).__init__()\n",
    "        \n",
    "    def forward(self,inputs,targets,smooth=1):\n",
    "        inputs = F.sigmoid(inputs)\n",
    "        inputs = inputs.view(-1)\n",
    "        targets = targets.view(-1)\n",
    "        intersection = (inputs * targes).sum()\n",
    "        dice = (2.* intersection + smooth)/(inputs.sum() + targets.sum() + smooth)\n",
    "        \n",
    "        return 1 - dice\n",
    "    \n",
    "# 使用方法\n",
    "criterion = DiceLoss()\n",
    "loss = criterion(input,targets)\n",
    "\n",
    "        "
   ]
  },
  {
   "cell_type": "markdown",
   "id": "83e2064c",
   "metadata": {},
   "source": [
    "除此之外，常见的损失函数还有BCE-Dice Loss，Jaccard/Intersection over Union (IoU) Loss，Focal Loss......"
   ]
  },
  {
   "cell_type": "code",
   "execution_count": 2,
   "id": "fb74005f",
   "metadata": {},
   "outputs": [],
   "source": [
    "import torch.nn as nn\n",
    "\n",
    "class DiceBCELoss(nn.Module):\n",
    "    def __init__(self, weight=None, size_average=True):\n",
    "        super(DiceBCELoss, self).__init__()\n",
    "\n",
    "    def forward(self, inputs, targets, smooth=1):\n",
    "        inputs = F.sigmoid(inputs)       \n",
    "        inputs = inputs.view(-1)\n",
    "        targets = targets.view(-1)\n",
    "        intersection = (inputs * targets).sum()                     \n",
    "        dice_loss = 1 - (2.*intersection + smooth)/(inputs.sum() + targets.sum() + smooth)  \n",
    "        BCE = F.binary_cross_entropy(inputs, targets, reduction='mean')\n",
    "        Dice_BCE = BCE + dice_loss\n",
    "        \n",
    "        return Dice_BCE\n",
    "\n",
    "    \n",
    "class IoULoss(nn.Module):\n",
    "    def __init__(self, weight=None, size_average=True):\n",
    "        super(IoULoss, self).__init__()\n",
    "\n",
    "    def forward(self, inputs, targets, smooth=1):\n",
    "        inputs = F.sigmoid(inputs)       \n",
    "        inputs = inputs.view(-1)\n",
    "        targets = targets.view(-1)\n",
    "        intersection = (inputs * targets).sum()\n",
    "        total = (inputs + targets).sum()\n",
    "        union = total - intersection \n",
    "        \n",
    "        IoU = (intersection + smooth)/(union + smooth)\n",
    "                \n",
    "        return 1 - IoU\n",
    "\n",
    "    \n",
    "ALPHA = 0.8\n",
    "GAMMA = 2\n",
    "\n",
    "class FocalLoss(nn.Module):\n",
    "    def __init__(self, weight=None, size_average=True):\n",
    "        super(FocalLoss, self).__init__()\n",
    "\n",
    "    def forward(self, inputs, targets, alpha=ALPHA, gamma=GAMMA, smooth=1):\n",
    "        inputs = F.sigmoid(inputs)       \n",
    "        inputs = inputs.view(-1)\n",
    "        targets = targets.view(-1)\n",
    "        BCE = F.binary_cross_entropy(inputs, targets, reduction='mean')\n",
    "        BCE_EXP = torch.exp(-BCE)\n",
    "        focal_loss = alpha * (1-BCE_EXP)**gamma * BCE\n",
    "                       \n",
    "        return focal_loss\n",
    "# 更多的可以参考链接1"
   ]
  },
  {
   "cell_type": "markdown",
   "id": "ecac15a7",
   "metadata": {},
   "source": [
    "## 6.2 动态调整学习率\n",
    "\n",
    "\n",
    "通过一个适当的学习率衰减策略来改善这种现象，提高学习率的精度。这种设置方式在PyTorch中被称为**scheduler**"
   ]
  },
  {
   "cell_type": "markdown",
   "id": "a0e34148",
   "metadata": {},
   "source": [
    "### 6.2.1 scheduler\n",
    "\n",
    "官方提供的API,详细见[官方文档](https://pytorch.org/docs/stable/optim.html)\n",
    "\n",
    "+ [`lr_scheduler.LambdaLR`](https://pytorch.org/docs/stable/generated/torch.optim.lr_scheduler.LambdaLR.html#torch.optim.lr_scheduler.LambdaLR)\n",
    "+ [`lr_scheduler.MultiplicativeLR`](https://pytorch.org/docs/stable/generated/torch.optim.lr_scheduler.MultiplicativeLR.html#torch.optim.lr_scheduler.MultiplicativeLR)\n",
    "+ [`lr_scheduler.StepLR`](https://pytorch.org/docs/stable/generated/torch.optim.lr_scheduler.StepLR.html#torch.optim.lr_scheduler.StepLR)\n",
    "+ [`lr_scheduler.MultiStepLR`](https://pytorch.org/docs/stable/generated/torch.optim.lr_scheduler.MultiStepLR.html#torch.optim.lr_scheduler.MultiStepLR)\n",
    "+ [`lr_scheduler.ExponentialLR`](https://pytorch.org/docs/stable/generated/torch.optim.lr_scheduler.ExponentialLR.html#torch.optim.lr_scheduler.ExponentialLR)\n",
    "+ [`lr_scheduler.CosineAnnealingLR`](https://pytorch.org/docs/stable/generated/torch.optim.lr_scheduler.CosineAnnealingLR.html#torch.optim.lr_scheduler.CosineAnnealingLR)\n",
    "+ [`lr_scheduler.ReduceLROnPlateau`](https://pytorch.org/docs/stable/generated/torch.optim.lr_scheduler.ReduceLROnPlateau.html#torch.optim.lr_scheduler.ReduceLROnPlateau)\n",
    "+ [`lr_scheduler.CyclicLR`](https://pytorch.org/docs/stable/generated/torch.optim.lr_scheduler.CyclicLR.html#torch.optim.lr_scheduler.CyclicLR)\n",
    "+ [`lr_scheduler.OneCycleLR`](https://pytorch.org/docs/stable/generated/torch.optim.lr_scheduler.OneCycleLR.html#torch.optim.lr_scheduler.OneCycleLR)\n",
    "+ [`lr_scheduler.CosineAnnealingWarmRestarts`](https://pytorch.org/docs/stable/generated/torch.optim.lr_scheduler.CosineAnnealingWarmRestarts.html#torch.optim.lr_scheduler.CosineAnnealingWarmRestarts)\n",
    "\n",
    "\n",
    "**使用官方API**"
   ]
  },
  {
   "cell_type": "markdown",
   "id": "451431ab",
   "metadata": {},
   "source": [
    "```\n",
    "# 选择一种优化器\n",
    "optimizer = torch.optim.Adam(...) \n",
    "# 选择上面提到的一种或多种动态调整学习率的方法\n",
    "scheduler1 = torch.optim.lr_scheduler.... \n",
    "scheduler2 = torch.optim.lr_scheduler....\n",
    "...\n",
    "schedulern = torch.optim.lr_scheduler....\n",
    "# 进行训练\n",
    "for epoch in range(100):\n",
    "    train(...)\n",
    "    validate(...)\n",
    "    optimizer.step()\n",
    "    # 需要在优化器参数更新之后再动态调整学习率\n",
    "\tscheduler1.step() \n",
    "\t##...\n",
    "    schedulern.step()\n",
    "    \n",
    "    \n",
    "    **注**：\n",
    "```\n",
    "我们在使用官方给出的`torch.optim.lr_scheduler`时，需要将`scheduler.step()`放在`optimizer.step()`后面进行使用。"
   ]
  },
  {
   "cell_type": "markdown",
   "id": "e956fe81",
   "metadata": {},
   "source": [
    "### 6.2.2 自定义scheduler\n",
    "\n",
    "通过`adjust_learning_rate`改变`param_group`中`lr`的值，来调整学习率的简单实现"
   ]
  },
  {
   "cell_type": "code",
   "execution_count": 5,
   "id": "347b5007",
   "metadata": {},
   "outputs": [],
   "source": [
    "def adjust_learning_rate(optimizer,epoch):\n",
    "    lr = args.lr * (0.1 ** (epoch //30))\n",
    "    for param_group in optimizer.param_groups:\n",
    "        param_group['lr'] = lr\n",
    "        "
   ]
  },
  {
   "cell_type": "markdown",
   "id": "67e3ea1c",
   "metadata": {},
   "source": [
    "训练过程中的调用方法：\n",
    "\n",
    "```python\n",
    "def adjust_learning_rate(optimizer,...):\n",
    "    ...\n",
    "optimizer = torch.optim.SGD(model.parameters(),lr = args.lr,momentum = 0.9)\n",
    "for epoch in range(10):\n",
    "    train(...)\n",
    "    validate(...)\n",
    "    adjust_learning_rate(optimizer,epoch)\n",
    "```"
   ]
  },
  {
   "cell_type": "markdown",
   "id": "f5b06b34",
   "metadata": {},
   "source": [
    "## 6.3 模型微调\n",
    "\n",
    "\n",
    "迁移学习(transfer learning)，将从源数据集学到的知识迁移到目标数据集上,这里我们了解一下迁移学习的一种应用场景**模型微调(fineturn)**。\n",
    "\n",
    "简单来理解：我们先找到一个同类的别人训练好的模型，把别人现成的训练好了的模型拿过来，换成自己的数据，通过训练调整一下参数。\n",
    "\n",
    "### 6.3.1 模型微调的流程\n",
    "\n",
    "1. 在源数据集（例如ImageNet数据集）上预训练要给神经网络模型，即源模型。\n",
    "2. 创建一个新的神经网络模型，即目标模型。它复制了源模型上除了输出层外的所有模型涉及及其参数。\n",
    "我们假设这些模型参数包含了源数据集上学习到的知识，且这些知识同样适用于目标数据集。我们还假设源模型的输出层跟源数据集的标签紧密相关，因此在目标模型中不与采用。\n",
    "3. 为目标模型参加要给输出大小为目标数据集类别个数的输出层，并随机初始化该层的模型参数。\n",
    "4. 在目标数据集上训练目标模型。我们将从头训练输出层，而其他层的参数都是基于源模型的参数微调得到的。\n",
    "\n",
    "![finetune](images\\finetune.png)\n"
   ]
  },
  {
   "cell_type": "markdown",
   "id": "cda3d482",
   "metadata": {},
   "source": [
    "### 6.3.2 使用已有模型结构\n",
    "\n",
    "以**torchvision**中的常见模型为例，列出了如何在图像分类任务中使用PyTorch提供的常见模型结构和参数。对于其他任务和网络结构，使用方式是类似的："
   ]
  },
  {
   "cell_type": "markdown",
   "id": "de35443c",
   "metadata": {},
   "source": [
    "**实例化网络**"
   ]
  },
  {
   "cell_type": "code",
   "execution_count": null,
   "id": "2ebd4fe2",
   "metadata": {},
   "outputs": [],
   "source": [
    "import torchvision.models as models\n",
    "resnet18 = models.resnet18() # resnet18 = models.resnet18(pretrained=False)  等价\n",
    "alexnet = models.alexnet()\n",
    "vgg16 = models.vgg16()\n",
    "squeezenet = models.squeezenet1_0()\n",
    "densenet = models.densenet161()\n",
    "inception = models.inception_v3()\n",
    "googlenet = models.googlenet()\n",
    "shufflenet = models.shufflenet_v2_x1_0()\n",
    "mobilenet_v2 = models.mobilenet_v2()\n",
    "mobilenet_v3_large = models.mobilenet_v3_large()\n",
    "mobilenet_v3_small = models.mobilenet_v3_small()\n",
    "resnext50_32x4d = models.resnext50_32x4d()\n",
    "wide_resnet50_2 = models.wide_resnet50_2()\n",
    "mnasnet = models.mnasnet1_0()\n"
   ]
  },
  {
   "cell_type": "markdown",
   "id": "1f352ae1",
   "metadata": {},
   "source": [
    "**传递`pretrained`参数**\n",
    "\n",
    "通过`True`或者`False`来决定是否使用预训练好的权重，在默认状态下`pretrained = False`，意味着我们不使用预训练得到的权重，当`pretrained = True`，意味着我们将使用在一些数据集上预训练得到的权重。"
   ]
  },
  {
   "cell_type": "code",
   "execution_count": null,
   "id": "c868e986",
   "metadata": {},
   "outputs": [],
   "source": [
    "import torchvision.models as models\n",
    "resnet18 = models.resnet18(pretrained=True)\n",
    "alexnet = models.alexnet(pretrained=True)\n",
    "squeezenet = models.squeezenet1_0(pretrained=True)\n",
    "vgg16 = models.vgg16(pretrained=True)\n",
    "densenet = models.densenet161(pretrained=True)\n",
    "inception = models.inception_v3(pretrained=True)\n",
    "googlenet = models.googlenet(pretrained=True)\n",
    "shufflenet = models.shufflenet_v2_x1_0(pretrained=True)\n",
    "mobilenet_v2 = models.mobilenet_v2(pretrained=True)\n",
    "mobilenet_v3_large = models.mobilenet_v3_large(pretrained=True)\n",
    "mobilenet_v3_small = models.mobilenet_v3_small(pretrained=True)\n",
    "resnext50_32x4d = models.resnext50_32x4d(pretrained=True)\n",
    "wide_resnet50_2 = models.wide_resnet50_2(pretrained=True)\n",
    "mnasnet = models.mnasnet1_0(pretrained=True)"
   ]
  },
  {
   "cell_type": "markdown",
   "id": "09296828",
   "metadata": {},
   "source": [
    "注意事项：\n",
    "\n",
    "1. 通常PyTorch模型的扩展为`.pt`或`.pth`，程序运行时会首先检查默认路径中是否有已经下载的模型权重，一旦权重被下载，下次加载就不需要下载了。\n",
    "\n",
    "2. 预训练模型的下载比较慢，我们可以直接通过迅雷或者其他方式去 [这里](https://github.com/pytorch/vision/tree/master/torchvision/models) 查看自己的模型里面`model_urls`，然后手动下载，预训练模型的权重在`Linux`和`Mac`的默认下载路径是用户根目录下的`.cache`文件夹。在`Windows`下就是`C:\\Users\\<username>\\.cache\\torch\\hub\\checkpoint`。我们可以通过使用 [`torch.utils.model_zoo.load_url()`](https://pytorch.org/docs/stable/model_zoo.html#torch.utils.model_zoo.load_url)设置权重的下载地址。\n",
    "\n",
    "3. 如果觉得麻烦，还可以将自己的权重下载下来放到同文件夹下，然后再将参数加载网络。\n",
    "\n",
    "   ```python\n",
    "   self.model = models.resnet50(pretrained=False)\n",
    "   self.model.load_state_dict(torch.load('./model/resnet50-19c8e357.pth'))\n",
    "   ```\n",
    "\n",
    "4. 如果中途强行停止下载的话，一定要去对应路径下将权重文件删除干净，要不然可能会报错。"
   ]
  },
  {
   "cell_type": "markdown",
   "id": "4307da6d",
   "metadata": {},
   "source": [
    "### 6.3.3 训练特定层\n",
    "\n",
    "在默认情况下，参数的属性`.requires_grad = True`，如果我们从头开始训练或微调不需要注意这里。但如果我们正在提取特征并且只想为新初始化的层计算梯度，其他参数不进行改变。那我们就需要通过设置`requires_grad = False`来冻结部分层。在PyTorch官方中提供了这样一个例程。"
   ]
  },
  {
   "cell_type": "code",
   "execution_count": 12,
   "id": "cc4decf5",
   "metadata": {},
   "outputs": [],
   "source": [
    "def set_parameter_requires_grad(model, feature_extracting):\n",
    "    if feature_extracting:\n",
    "        for param in model.parameters():\n",
    "            param.requires_grad = False"
   ]
  },
  {
   "cell_type": "markdown",
   "id": "6e23a284",
   "metadata": {},
   "source": [
    "以`resnet18`为例的将1000类改为4类，但是仅改变最后一层的模型参数，不改变特征提取的模型参数；"
   ]
  },
  {
   "cell_type": "code",
   "execution_count": null,
   "id": "61f3a0c1",
   "metadata": {},
   "outputs": [],
   "source": [
    "import torchvision.models as models\n",
    "# 冻结参数的梯度\n",
    "feature_extract = True\n",
    "model = models.resnet18(pretrained=True)\n",
    "set_parameter_requires_grad(model, feature_extract)\n",
    "# 修改模型\n",
    "num_ftrs = model.fc.in_features\n",
    "model.fc = nn.Linear(in_features=512, out_features=4, bias=True)"
   ]
  },
  {
   "cell_type": "markdown",
   "id": "304b0e96",
   "metadata": {},
   "source": [
    "注意我们先冻结模型参数的梯度，再对模型输出部分的全连接层进行修改，这样修改后的全连接层的参数就是可计算梯度的。\n",
    "\n",
    "之后在训练过程中，`model`仍会进行梯度回传，但是参数更新则只会发生在`fc`层。通过设定参数的`requires_grad`属性，我们完成了指定训练模型的特定层的目标，这对实现模型微调非常重要。"
   ]
  },
  {
   "cell_type": "markdown",
   "id": "e7db6baa",
   "metadata": {},
   "source": [
    "## 6.4 半精度训练\n",
    "\n",
    "\n",
    "GPU的性能主要分为两部分：算力和显存。\n",
    "- 算力决定了显卡计算的速度，\n",
    "- 显存决定了显卡可以同时放入多少数据用于计算。\n",
    "\n",
    "在可以使用的显存数量一定的情况下，每次训练能够加载的数据更多（也就是batch size更大），则也可以提高训练效率。\n",
    "\n",
    "另外，有时候数据本身也比较大（比如3D图像、视频等），显存较小的情况下可能甚至batch size为1的情况都无法实现。因此，合理使用显存也就显得十分重要。\n",
    "\n",
    "PyTorch默认的浮点数存储方式用的是`torch.float32`,小数点后位数更多固然能保证数据的精确性，但绝大多数场景其实并不需要这么精确，只保留一半的信息也不会影响结果，也就是使用torch.float16格式。由于数位减了一半，因此被称为“半精度”，具体如下图：\n",
    "\n",
    "![amp](images\\float16.jpg)\n",
    "\n",
    "\n",
    "显然半精度能够减少显存占用，使得显卡可以同时加载更多数据进行计算。本节会介绍如何在PyTorch中设置使用半精度计算。\n",
    "\n",
    "### 6.4.1 半精度训练的设置\n",
    "\n",
    "**import autocast**"
   ]
  },
  {
   "cell_type": "code",
   "execution_count": 15,
   "id": "e6de2ac2",
   "metadata": {},
   "outputs": [],
   "source": [
    "from torch.cuda.amp import autocast"
   ]
  },
  {
   "cell_type": "markdown",
   "id": "ac4f47ed",
   "metadata": {},
   "source": [
    "**模型设置**\n",
    "\n",
    "在模型定义中，使用python的装饰器方法，用`autocast`装饰模型中的`forward`函数。关于装饰器的使用，可以参考[这里](https://www.cnblogs.com/jfdwd/p/11253925.html)：\n",
    "\n",
    "```python\n",
    "@autocast()   \n",
    "def forward(self, x):\n",
    "    ...\n",
    "    return x\n",
    "```\n",
    "\n",
    "**训练过程**\n",
    "\n",
    "在训练过程中，只需在将数据输入模型及其之后的部分放入`with autocast():`即可：\n",
    "\n",
    "```python\n",
    " for x in train_loader:\n",
    "\tx = x.cuda()\n",
    "\twith autocast():\n",
    "        output = model(x)\n",
    "        ...\n",
    "\n",
    "```\n",
    "\n",
    "**注意：**\n",
    "\n",
    "半精度训练主要适用于数据本身的size比较大（比如说3D图像、视频等）。当数据本身的size并不大时（比如手写数字MNIST数据集的图片尺寸只有28*28），使用半精度训练则可能不会带来显著的提升。\n",
    "\n",
    "\n",
    "## 6.5 #### 本节参考\n",
    "\n",
    "1. [PyTorch官方文档](https://pytorch.org/docs/stable/optim.html)\n",
    "2. [参数更新](https://www.pytorchtutorial.com/docs/package_references/torch-optim/)\n",
    "3. [给不同层分配不同的学习率](https://blog.csdn.net/jdzwanghao/article/details/90402577)\n",
    "1. https://www.kaggle.com/bigironsphere/loss-function-library-keras-pytorch/notebook\n",
    "2. https://www.zhihu.com/question/66988664/answer/247952270\n",
    "3. https://blog.csdn.net/dss_dssssd/article/details/84103834\n",
    "4. https://zj-image-processing.readthedocs.io/zh_CN/latest/pytorch/%E8%87%AA%E5%AE%9A%E4%B9%89%E6%8D%9F%E5%A4%B1%E5%87%BD%E6%95%B0/\n",
    "5. https://blog.csdn.net/qq_27825451/article/details/95165265\n",
    "6. https://discuss.pytorch.org/t/should-i-define-my-custom-loss-function-as-a-class/89468\n",
    "\n"
   ]
  },
  {
   "cell_type": "code",
   "execution_count": null,
   "id": "78c1d50e",
   "metadata": {},
   "outputs": [],
   "source": []
  }
 ],
 "metadata": {
  "kernelspec": {
   "display_name": "Pytorch39",
   "language": "python",
   "name": "Pytorch39"
  },
  "language_info": {
   "codemirror_mode": {
    "name": "ipython",
    "version": 3
   },
   "file_extension": ".py",
   "mimetype": "text/x-python",
   "name": "python",
   "nbconvert_exporter": "python",
   "pygments_lexer": "ipython3",
   "version": "3.8.8"
  },
  "toc": {
   "base_numbering": 1,
   "nav_menu": {},
   "number_sections": false,
   "sideBar": true,
   "skip_h1_title": false,
   "title_cell": "Table of Contents",
   "title_sidebar": "Contents",
   "toc_cell": false,
   "toc_position": {},
   "toc_section_display": true,
   "toc_window_display": true
  }
 },
 "nbformat": 4,
 "nbformat_minor": 5
}
