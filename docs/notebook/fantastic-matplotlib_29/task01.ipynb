{
 "cells": [
  {
   "cell_type": "markdown",
   "id": "b11df80a",
   "metadata": {},
   "source": [
    "# 第一回：Matplotlib初相识\n",
    "\n",
    "----\n",
    "\n",
    "（本学习笔记来源于[DataWhale-数据可视化](https://datawhalechina.github.io/fantastic-matplotlib/)，部分内容来自莫烦PYTHON教程）\n",
    "\n",
    "\n",
    "\n",
    "```md\n",
    "Life is what you make it.\n",
    "生活需要自己塑造。\n",
    "\n",
    "```\n",
    "## 认识matplotlib\n",
    "\n",
    "Matplotlib是一个Python 2D绘图库，它以多种硬拷贝格式和跨平台的交互式环境生成出版物质量的图形。 Matplotlib可用于Python脚本，Python和IPython (opens new window)Shell、Jupyter (opens new window)笔记本，Web应用程序服务器和四个图形用户界面工具包。\n",
    "\n",
    "![img_0.png](./images/img_0.png)\n",
    "\n",
    "Matplotlib是Python数据可视化库中的泰斗，它已经成为python中公认的数据可视化工具，我们所熟知的pandas和seaborn的绘图接口其实也是基于matplotlib所作的高级封装。通过它，你可以画出线图、散点图、等高线图、条形图、柱状图、3D 图形甚至是图形动画等等。\n",
    "\n",
    "\n",
    "## 安装\n",
    "\n",
    "**Linux**\n",
    "\n",
    "打开 Terminal 窗口, 输入以下内容：\n",
    "\n",
    "```sh\n",
    "# python 3+ 请复制以下在 terminal 中执行\n",
    "sudo apt-get install python3-matplotlib\n",
    "\n",
    "# python 2+ 请复制以下在 terminal 中执行\n",
    "sudo apt-get install python-matplotlib\n",
    "\n",
    "```\n",
    "\n",
    "**MacOS**\n",
    "\n",
    "打开 Terminal 窗口, 输入以下内容\n",
    "\n",
    "```sh\n",
    "# python 3+ 请复制以下在 terminal 中执行\n",
    "pip3 install matplotlib\n",
    "\n",
    "# python 2+ 请复制以下在 terminal 中执行\n",
    "pip install matplotlib\n",
    "\n",
    "```\n",
    "\n",
    "**官方推荐**\n",
    "\n",
    "访问 [官方Matplotlib安装说明](https://www.matplotlib.org.cn/users/installing.html#installing-an-official-release)。\n",
    "\n",
    "```sh\n",
    "python -m pip install -U pip\n",
    "python -m pip install -U matplotlib\n",
    "```\n",
    "\n",
    "如果安装不成功, 还有一种方法可以简便安装所有科学运算模块。 可以搜索一下 Anaconda python。 \n",
    "\n",
    "Anaconda 是一个便捷的虚拟环境、包管理工具,Anaconda 使用软件包管理系统Conda 进行包管理，为用户对不同版本、不同功能的工具包的环境进行配置和管理提供便利。\n",
    " \n",
    "\n",
    "下面，我们将开始正式学习 **Matplotlib** 的使用！\n",
    "\n",
    "\n",
    "\n",
    "\n",
    "## 基本用法\n",
    "\n",
    "知识点归纳：\n",
    "\n",
    "- 导入模块：import matplotlib.pyplot as plt\n",
    "- 定义图像窗口：plt.figure()\n",
    "- 画图：plt.plot(x, y)\n",
    "- 定义坐标轴范围：plt.xlim()/plt.ylim()\n",
    "- 定义坐标轴名称：plt.xlabel()/plt.ylabel()\n",
    "- 定义坐标轴刻度及名称：plt.xticks()/plt.yticks()\n",
    "- 设置图像边框颜色：ax = plt.gca() ax.spines[].set_color()\n",
    "- 调整边框（坐标轴）位置：ax.spines[].set_position()\n",
    "- 调整刻度位置：ax.xaxis.set_ticks_position()/ax.yaxis.set_ticks_position()\n",
    "\n",
    "\n",
    "先来一个简单实例"
   ]
  },
  {
   "cell_type": "code",
   "execution_count": 19,
   "id": "f19b97af",
   "metadata": {},
   "outputs": [
    {
     "data": {
      "image/png": "[encoded data removed]",
      "text/plain": [
       "<Figure size 576x360 with 1 Axes>"
      ]
     },
     "metadata": {
      "needs_background": "light"
     },
     "output_type": "display_data"
    }
   ],
   "source": [
    "%matplotlib inline\n",
    "\n",
    "import matplotlib.pyplot as plt\n",
    "import numpy as np\n",
    "x = np.linspace(-1, 1, 50)\n",
    "y = x**2 + 1\n",
    "\n",
    "plt.figure(num=3, figsize=(8, 5))\n",
    "plt.xlim((-1, 1))\n",
    "plt.ylim((-0, 3))\n",
    "plt.xlabel('x label')\n",
    "plt.ylabel('y label')\n",
    "plt.title('matplotlib title')\n",
    "plt.plot(x, y)\n",
    "plt.show()"
   ]
  },
  {
   "cell_type": "markdown",
   "id": "cb3dccda",
   "metadata": {},
   "source": [
    "上述实例代码部分，我们看到一个完整的代码包括了几部分：\n",
    "\n",
    "- 1、导入模块：\n",
    "\n",
    "\n",
    "```python\n",
    "# 使用import导入模块matplotlib.pyplot，并简写成plt；使用import导入模块numpy，并简写成np\n",
    "import matplotlib.pyplot as plt\n",
    "import numpy as np\n",
    "```\n",
    "\n",
    "    创建一组数据，使用np.linspace定义x：范围是(-1,1)，个数是50，将产生一组（-1，1）内均匀分布的50个数；(x,y)表示曲线。\n",
    "\n",
    "```python\n",
    "x = np.linspace(-1, 1, 50)\n",
    "y = x**2 + 1\n",
    "```\n",
    "\n",
    "- 2、定义图像窗口：plt.figure()\n",
    "\n",
    "```python\n",
    "# plt.figure()定义一个图像窗口：编号为3；大小为(8,6)；\n",
    "plt.figure(num=3, figsize=(8, 6))\n",
    "\n",
    "```\n",
    "\n",
    "- 3、定义坐标轴范围：plt.xlim()/plt.ylim()\n",
    "\n",
    "```python\n",
    "plt.xlim((-1, 1))\n",
    "plt.ylim((-0, 3))\n",
    "\n",
    "```\n",
    "- 4、定义坐标轴名称：plt.xlabel()/plt.ylabel()\n",
    "\n",
    "```python\n",
    "plt.xlabel('x label')\n",
    "plt.ylabel('y label')\n",
    "\n",
    "```\n",
    "- 5、画图：plt.plot(x, y)\n",
    "```python\n",
    "plt.plot(x, y)\n",
    "```\n",
    "`plt.plot`也可以指定颜色和其他指定属性：\n",
    "```        \n",
    "plt.plot(x, y1, color='red', linewidth=1.0, linestyle='--')\n",
    "```\n",
    "\n",
    "- 6、显示：plt.show(x, y)\n",
    "```python\n",
    "plt.show()\n",
    "```"
   ]
  },
  {
   "cell_type": "markdown",
   "id": "b2f939bb",
   "metadata": {},
   "source": [
    "**接着**，我们用另一个例子介绍一下另外的几个配置项"
   ]
  },
  {
   "cell_type": "code",
   "execution_count": 45,
   "id": "b1a7fad6",
   "metadata": {},
   "outputs": [
    {
     "data": {
      "image/png": "[encoded data removed]",
      "text/plain": [
       "<Figure size 576x360 with 2 Axes>"
      ]
     },
     "metadata": {
      "needs_background": "light"
     },
     "output_type": "display_data"
    }
   ],
   "source": [
    "x = np.linspace(-1, 1, 50)\n",
    "y1 = 2*x + 1\n",
    "y2 = x**2\n",
    "plt.figure(num=3, figsize=(8, 5))\n",
    "plt.subplot(2, 2,1)\n",
    "plt.plot(x, y2)\n",
    "ax = plt.gca()\n",
    "ax.spines['right'].set_color('none')\n",
    "ax.spines['top'].set_color('none')\n",
    "ax.spines['left'].set_position(('data',-1))\n",
    "ax.spines['bottom'].set_position(('data',-1))\n",
    "ticklevels = np.linspace(-1, 1, 5)\n",
    "plt.xticks(ticklevels)\n",
    "plt.yticks([-1, 1,  3],[ r'$really\\ bad$', r'$normal$', r'$really\\ good$'])\n",
    "plt.subplot(2, 2,2)\n",
    "plt.plot(x, y1, color='red', linewidth=1.0, linestyle='--')\n",
    "ax = plt.gca()\n",
    "ax.spines['right'].set_color('none')\n",
    "ax.spines['top'].set_color('none')\n",
    "ax.spines['left'].set_position(('data',0))\n",
    "ax.spines['bottom'].set_position(('data',0))\n",
    "plt.show()"
   ]
  },
  {
   "cell_type": "markdown",
   "id": "76323907",
   "metadata": {},
   "source": [
    "我们看到实例显示了两个子图，以及图像坐标边框等都有了变化：\n",
    "\n",
    "- 定义多个子图：plt.subplot(nrows, ncols, index, **kwargs)\n",
    "\n",
    "```python\n",
    "plt.subplot(2, 2,1) # 三个参数分别对应 行数，列数，索引号\n",
    "plt.plot(x, y2)\n",
    "\n",
    "```\n",
    "\n",
    "- 定义坐标轴刻度及名称：plt.xticks()/plt.yticks()\n",
    "\n",
    "```python\n",
    "\n",
    "ticklevels = np.linspace(-1, 1, 5)\n",
    "plt.xticks(ticklevels)\n",
    "plt.yticks([-1, 1,  3],[ r'$really\\ bad$', r'$normal$', r'$really\\ good$'])\n",
    "\n",
    "```\n",
    "\n",
    "- 设置图像边框颜色：ax = plt.gca() ax.spines[].set_color()\n",
    "\n",
    "```python\n",
    "ax = plt.gca()\n",
    "ax.spines['right'].set_color('none')\n",
    "ax.spines['top'].set_color('none')\n",
    "                        \n",
    "```\n",
    "- 调整刻度位置：ax.xaxis.set_ticks_position()/ax.yaxis.set_ticks_position()\n",
    "\n",
    "```python\n",
    "ax.spines['left'].set_position(('data',0))\n",
    "ax.spines['bottom'].set_position(('data',0))\n",
    "```"
   ]
  },
  {
   "cell_type": "markdown",
   "id": "c407e96e",
   "metadata": {},
   "source": [
    "## Figure的组成\n",
    "\n",
    "现在我们来深入看一下`figure`的组成。\n",
    "\n",
    "通过一张`figure`解剖图，我们可以看到一个完整的matplotlib图像通常会包括以下四个层级，这些层级也被称为**容器（container）**:\n",
    "\n",
    "**这里不详细讲解**"
   ]
  },
  {
   "cell_type": "markdown",
   "id": "5e108f3b",
   "metadata": {},
   "source": [
    "**Figure：**顶层级，用来容纳所有绘图元素\n",
    "\n",
    "**Axes：**matplotlib宇宙的核心，容纳了大量元素用来构造一幅幅子图，一个figure可以由一个或多个子图组成\n",
    "\n",
    "**Axis：**axes的下属层级，用于处理所有和坐标轴，网格有关的元素\n",
    "\n",
    "**Tick：**axis的下属层级，用来处理所有和刻度有关的元素\n",
    "\n",
    "\n",
    "![img.png](./images/img_figure.png)"
   ]
  },
  {
   "cell_type": "markdown",
   "id": "59c3b440",
   "metadata": {},
   "source": [
    "## 两种绘图接口"
   ]
  },
  {
   "cell_type": "markdown",
   "id": "45f18817",
   "metadata": {},
   "source": [
    "matplotlib提供了两种最常用的绘图接口\n",
    "\n",
    "- 显式创建figure和axes，在上面调用绘图方法，也被称为OO模式（object-oriented style)\n",
    "\n",
    "- 依赖pyplot自动创建figure和axes，并绘图\n",
    "\n",
    "使用第一种绘图接口，是这样的："
   ]
  },
  {
   "cell_type": "code",
   "execution_count": 9,
   "id": "179d4c22",
   "metadata": {},
   "outputs": [
    {
     "data": {
      "image/png": "[encoded data removed]",
      "text/plain": [
       "<Figure size 432x288 with 1 Axes>"
      ]
     },
     "metadata": {
      "needs_background": "light"
     },
     "output_type": "display_data"
    }
   ],
   "source": [
    "%matplotlib inline\n",
    "\n",
    "x = np.linspace(0, 2, 100)\n",
    "\n",
    "fig, ax = plt.subplots()  \n",
    "ax.plot(x, x, label='linear')  \n",
    "ax.plot(x, x**2, label='quadratic')  \n",
    "ax.plot(x, x**3, label='cubic')  \n",
    "ax.set_xlabel('x label') \n",
    "ax.set_ylabel('y label') \n",
    "ax.set_title(\"Simple Plot\")  \n",
    "ax.legend() \n",
    "plt.show()"
   ]
  },
  {
   "cell_type": "markdown",
   "id": "e34f434b",
   "metadata": {},
   "source": [
    "而如果采用第二种绘图接口，绘制同样的图，代码是这样的："
   ]
  },
  {
   "cell_type": "code",
   "execution_count": 10,
   "id": "4621cea7",
   "metadata": {},
   "outputs": [
    {
     "data": {
      "image/png": "[encoded data removed]",
      "text/plain": [
       "<Figure size 432x288 with 1 Axes>"
      ]
     },
     "metadata": {
      "needs_background": "light"
     },
     "output_type": "display_data"
    }
   ],
   "source": [
    "x = np.linspace(0, 2, 100)\n",
    "\n",
    "plt.plot(x, x, label='linear') \n",
    "plt.plot(x, x**2, label='quadratic')  \n",
    "plt.plot(x, x**3, label='cubic')\n",
    "plt.xlabel('x label')\n",
    "plt.ylabel('y label')\n",
    "plt.title(\"Simple Plot\")\n",
    "plt.legend()\n",
    "plt.show()"
   ]
  },
  {
   "cell_type": "markdown",
   "id": "cca88ea1",
   "metadata": {},
   "source": [
    "## 练一练\n",
    "\n",
    "现在，请根据上述所学内容，画出直线 y = x-1, 线型为虚线，线宽为1，纵坐标范围（-2，1），横坐标范围（-1，2），横纵坐标在（0，0）坐标点相交。\n",
    "\n",
    "横坐标的 [-1,-0.5,1] 分别对应 [bad, normal, good]。请一定自己尝试一番再看下面的答案噢~"
   ]
  },
  {
   "cell_type": "code",
   "execution_count": 43,
   "id": "81d3572a",
   "metadata": {
    "pycharm": {
     "name": "#%%\n"
    }
   },
   "outputs": [
    {
     "data": {
      "image/png": "[encoded data removed]",
      "text/plain": [
       "<Figure size 432x288 with 1 Axes>"
      ]
     },
     "metadata": {
      "needs_background": "light"
     },
     "output_type": "display_data"
    }
   ],
   "source": [
    "#答案\n",
    "\n",
    "%matplotlib inline\n",
    "\n",
    "import matplotlib.pyplot as plt\n",
    "import numpy as np\n",
    "\n",
    "x = np.linspace(-1, 2, 50)\n",
    "y = x - 1\n",
    "plt.figure()\n",
    "plt.plot(x,y, linewidth=1.0, linestyle='--')\n",
    "plt.xlim((-1,2))\n",
    "plt.ylim((-2,2))\n",
    "plt.xticks([-1,-0.5,1],['bad', 'normal', 'good'])\n",
    "ax = plt.gca()\n",
    "ax.spines['top'].set_color('none')\n",
    "ax.spines['right'].set_color('none')\n",
    "ax.spines['left'].set_position(('data',0))\n",
    "ax.spines['bottom'].set_position(('data',0))\n",
    "plt.show()"
   ]
  },
  {
   "cell_type": "markdown",
   "source": [
    "## 后记"
   ],
   "metadata": {
    "collapsed": false
   }
  },
  {
   "cell_type": "markdown",
   "source": [
    "### 报错解决：\n",
    "```\n",
    "DeprecationWarning: `should_run_async` will not call `transform_cell` automatically in the future. \n",
    "Please pass the result to `transformed_cell` argument and any exception that happen during thetransform in `preprocessing_exc_tuple` in IPython 7.17 and above. and should_run_async(code)\n",
    "```\n",
    "\n",
    "**解决：** 执行 `shell命令`，重启jupyter即可；\n",
    "\n",
    "```sh\n",
    "pip install --upgrade ipykernel\n",
    "```\n",
    "\n",
    "###  参考资料\n",
    "- [datawhale-matplotlib数据可视化-29期](https://datawhalechina.github.io/fantastic-matplotlib/)\n",
    "- [matplotlib官网用户指南](https://matplotlib.org/stable/tutorials/introductory/usage.html)\n",
    "- [莫烦PYTHON](https://morvanzhou.github.io/tutorials/data-manipulation/plt/1-1-why/)\n",
    "\n",
    "\n",
    "<link rel=\"stylesheet\" href=\"https://cdnjs.cloudflare.com/ajax/libs/social-share.js/1.0.16/css/share.min.css\">\n",
    "<div class=\"social-share\"></div>\n",
    "<script type=\"text/javascript\" src=\"https://cdnjs.cloudflare.com/ajax/libs/social-share.js/1.0.16/js/social-share.min.js\"></script>\n",
    "\n",
    "\n"
   ],
   "metadata": {
    "collapsed": false
   }
  }
 ],
 "metadata": {
  "kernelspec": {
   "display_name": "Python 3 (ipykernel)",
   "language": "python",
   "name": "python3"
  },
  "language_info": {
   "codemirror_mode": {
    "name": "ipython",
    "version": 3
   },
   "file_extension": ".py",
   "mimetype": "text/x-python",
   "name": "python",
   "nbconvert_exporter": "python",
   "pygments_lexer": "ipython3",
   "version": "3.8.8"
  }
 },
 "nbformat": 4,
 "nbformat_minor": 5
}