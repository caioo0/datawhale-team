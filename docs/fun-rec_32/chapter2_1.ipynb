{
 "cells": [
  {
   "cell_type": "markdown",
   "id": "fe62b433",
   "metadata": {},
   "source": [
    "# 经典召回模型\n",
    "\n",
    "---\n",
    "> （本学习笔记来源于DataWhale-第32期组队学习：[推荐系统](https://datawhalechina.github.io/fun-rec/#/ch02/ch2.1/ch2.1.1/usercf?id=%e5%9f%ba%e6%9c%ac%e6%80%9d%e6%83%b3)） ,\n",
    "> [B站视频讲解](https://space.bilibili.com/431850986/channel/collectiondetail?sid=339597) 观看地址\n",
    "\n",
    "**相关算法：**\n",
    "\n",
    "- UserCF\n",
    "- ItemCF\n",
    "- Swing\n",
    "- 矩阵分解\n",
    "\n",
    "## 1.协同过滤算法\n",
    "\n",
    "### 1.1 基本思想\n",
    "\n",
    "协同过滤（Collaborative Filtering）推荐算法是最经典、最常用的推荐算法。基本思想是：\n",
    "\n",
    "- 根据用户之前的喜好以及其他兴趣相近的用户的选择来给用户推荐物品。\n",
    "\n",
    "  - 基于对用户历史行为数据的挖掘发现用户的喜好偏向，并预测用户可能喜好的产品进行推荐。\n",
    "  - 一般是仅仅基于用户的行为数据（评价、购买、下载等）\n",
    "- 目前应用比较广泛的协同过滤算法是基于领域的方法，主要有：\n",
    "\n",
    "  - 基于用户的协同过滤算法（UserCF）: 给用户推荐和他兴趣相似的其他用户喜欢的产品。\n",
    "  - 基于物品的协同过滤算法（ItemCF）: 给用户推荐和他之前喜欢的物品相似的物品。\n",
    "\n",
    "不管是UserCF还是ItemCF算法，重点是计算用户之间（或物品之间）的相似度。\n",
    "\n",
    "### 1.2 相似性度量方法\n",
    "\n",
    "**1). 杰卡德（Jaccard）相似系数**\n",
    "\n",
    "`Jaccard`系数是衡量两个集合的相似度的一种指标，计算公式如下：\n",
    "\n",
    "![image.png](./assets/image.png)\n",
    "\n",
    "- 其中$N(u),N(v)$分别表示用户$u$和用户$u$交互物品的集合, 若 $N(u),N(v)$为空，则$sim_{uv}$ = 1。\n",
    "- 对于用户$u$和$u$，该公式反映了两个交互物品交集的数量占这两个用户交互物品并集的数量的比例。\n",
    "\n",
    "用户杰卡德相似系数一般无法反映具体用户的评分喜好信息，所以常用来评估用户是否对某物品进行打分，而不是预估用户对某物品打多少分。\n",
    "\n",
    "**Python实现相似度：** \n",
    "\n",
    "提示：`import jieba`出现找不到模块，在cmd中运行`pip install jieba`安装成功后再尝试。 "
   ]
  },
  {
   "cell_type": "code",
   "execution_count": 3,
   "id": "ee4a1802",
   "metadata": {},
   "outputs": [
    {
     "name": "stderr",
     "output_type": "stream",
     "text": [
      "Building prefix dict from the default dictionary ...\n",
      "Dumping model to file cache C:\\Users\\choi\\AppData\\Local\\Temp\\jieba.cache\n",
      "Loading model cost 1.060 seconds.\n",
      "Prefix dict has been built successfully.\n"
     ]
    },
    {
     "name": "stdout",
     "output_type": "stream",
     "text": [
      "0.38461538461538464\n"
     ]
    }
   ],
   "source": [
    "#import numpy as np\n",
    "#from scipy.spatial.distance import pdist#直接调包可以计算JC值 :需要两个句子长度一样；所以暂时不用\n",
    "import jieba  #如没有安装cmd中运行 pip install jieba \n",
    " \n",
    "def Jaccrad(model, reference):#terms_reference为源句子，terms_model为候选句子\n",
    "    terms_reference= jieba.cut(reference)#默认精准模式\n",
    "    terms_model= jieba.cut(model)\n",
    "    grams_reference = set(terms_reference)#去重；如果不需要就改为list\n",
    "    grams_model = set(terms_model)\n",
    "    temp=0\n",
    "    for i in grams_reference:\n",
    "        if i in grams_model:\n",
    "            temp=temp+1\n",
    "    fenmu=len(grams_model)+len(grams_reference)-temp #并集\n",
    "    jaccard_coefficient=float(temp/fenmu)#交集\n",
    "    return jaccard_coefficient\n",
    " \n",
    "a=\"香农在信息论中提出的信息熵定义为自信息的期望\"\n",
    "b=\"信息熵作为自信息的期望\"\n",
    "jaccard_coefficient=Jaccrad(a,b)\n",
    "print(jaccard_coefficient)"
   ]
  },
  {
   "cell_type": "markdown",
   "id": "dbfbb258",
   "metadata": {},
   "source": [
    "**2). 余弦相似度**\n",
    "\n",
    "`余弦相似度`衡量了两个向量的夹角，夹角越小越相似。余弦相似度的计算如下，其与`杰卡德(Jaccard)`相似系数只是在分母上存在差异：\n",
    "\n",
    "![image.png](./assets/1665557679443-image.png)\n",
    "\n",
    "从向量的角度进行描述，令矩阵$A$为用户-物品交互矩阵，矩阵的行表示用户，列表示物品。\n",
    "- 设用户和物品数量分别为$m,n$,交互矩阵$A$就是一个$m$行$n$列的矩阵。\n",
    "- 矩阵中的元素均为0/1。若用户$i$对物品$j$存在交互，那么$A_{ij} = 1$,否则为0.\n",
    "- 那么，用户之间的相似度可以表示为：\n",
    "$$\n",
    "   sim_{uv} = cos(u,v) = \\frac{u.v}{|u|.|v|}\n",
    "$$\n",
    "\n",
    "向量$u,v$在形式都是one-hot类型，$u.v$表示向量点积。\n",
    "\n",
    "上述用户-物品交互矩阵在现实中是十分稀疏的，为了节省内存，交互矩阵会采用字典进行存储。在`sklearn`中，余弦相似度的实现：\n",
    "\n",
    "**在Python中使用sklearn计算余弦相似性**\n",
    "\n",
    "`sklearn`提供内置函数`cosine_similarity()`可以直接用来计算余弦相似性。"
   ]
  },
  {
   "cell_type": "code",
   "execution_count": 11,
   "id": "0b6f204d",
   "metadata": {},
   "outputs": [
    {
     "name": "stdout",
     "output_type": "stream",
     "text": [
      "0.9688639316269663\n"
     ]
    }
   ],
   "source": [
    "import numpy as np\n",
    "from sklearn.metrics.pairwise import cosine_similarity\n",
    "vec1 = np.array([1, 2, 3, 4])\n",
    "vec2 = np.array([5, 6, 7, 8])\n",
    "\n",
    "cos_sim = cosine_similarity(vec1.reshape(1, -1), vec2.reshape(1, -1))\n",
    "print(cos_sim[0][0])"
   ]
  },
  {
   "cell_type": "markdown",
   "id": "340ca69c",
   "metadata": {},
   "source": [
    "**在Python中使用numpy计算余弦相似性**\n",
    "\n",
    "`numpy`模块没有直接提供计算余弦相似性的函数，我们可以根据余弦相似性的计算公式来计算。其中`numpy.doy()`函数可以计算两个向量的内积，`numpy.linalg.norm()`函数返回向量的模。"
   ]
  },
  {
   "cell_type": "code",
   "execution_count": 12,
   "id": "3387e920",
   "metadata": {},
   "outputs": [
    {
     "name": "stdout",
     "output_type": "stream",
     "text": [
      "168.58232410309213\n"
     ]
    }
   ],
   "source": [
    "import numpy as np\n",
    "vec1 = np.array([1, 2, 3, 4])\n",
    "vec2 = np.array([5, 6, 7, 8])\n",
    "\n",
    "cos_sim = vec1.dot(vec2) / np.linalg.norm(vec1) * np.linalg.norm(vec2)\n",
    "print(cos_sim)"
   ]
  },
  {
   "cell_type": "markdown",
   "id": "a7f7a471",
   "metadata": {},
   "source": [
    "注意numpy只能计算numpy.ndarray类型向量的余弦相似性。\n",
    "\n",
    "**3). 皮尔逊相关系数 **\n",
    "\n",
    "在用户之间的余弦相似度计算时，将用户向量的内积展开为各元素乘积和：\n",
    "\n",
    "$$ sim_{uv} = \\frac{\\sum_i r_{ui}*r_{vi}}{\\sqrt{\\sum_i r_{ui}^2}\\sqrt{\\sum_i r_{vi}^2}} $$\n"
   ]
  },
  {
   "cell_type": "markdown",
   "id": "2ba3d88b",
   "metadata": {},
   "source": [
    "\n",
    "## 拓展学习\n",
    "[协同过滤算法之通过Jaccard相似度计算推荐结果原理及代码实现](https://blog.csdn.net/sinat_31854967/article/details/118338888)\n",
    "[基于用户的协同过滤来构建推荐系统](https://mp.weixin.qq.com/s/ZtnaQrVIpVOPJpqMdLWOcw)\n",
    "\n"
   ]
  }
 ],
 "metadata": {
  "kernelspec": {
   "display_name": "Python 3 (ipykernel)",
   "language": "python",
   "name": "python3"
  },
  "language_info": {
   "codemirror_mode": {
    "name": "ipython",
    "version": 3
   },
   "file_extension": ".py",
   "mimetype": "text/x-python",
   "name": "python",
   "nbconvert_exporter": "python",
   "pygments_lexer": "ipython3",
   "version": "3.9.12"
  }
 },
 "nbformat": 4,
 "nbformat_minor": 5
}
