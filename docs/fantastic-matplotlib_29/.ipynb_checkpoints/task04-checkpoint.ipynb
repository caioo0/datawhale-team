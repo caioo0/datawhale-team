{
 "cells": [
  {
   "cell_type": "markdown",
   "id": "b62197c3",
   "metadata": {},
   "source": [
    "# 第四回：文字图例尽眉目\n",
    "---\n",
    "（本学习笔记来源于[DataWhale-数据可视化](https://datawhalechina.github.io/fantastic-matplotlib/)，部分内容来自莫烦PYTHON教程）"
   ]
  },
  {
   "cell_type": "markdown",
   "id": "49f9984f",
   "metadata": {},
   "source": []
  }
 ],
 "metadata": {
  "kernelspec": {
   "display_name": "Python 3 (ipykernel)",
   "language": "python",
   "name": "python3"
  },
  "language_info": {
   "codemirror_mode": {
    "name": "ipython",
    "version": 3
   },
   "file_extension": ".py",
   "mimetype": "text/x-python",
   "name": "python",
   "nbconvert_exporter": "python",
   "pygments_lexer": "ipython3",
   "version": "3.8.8"
  }
 },
 "nbformat": 4,
 "nbformat_minor": 5
}
