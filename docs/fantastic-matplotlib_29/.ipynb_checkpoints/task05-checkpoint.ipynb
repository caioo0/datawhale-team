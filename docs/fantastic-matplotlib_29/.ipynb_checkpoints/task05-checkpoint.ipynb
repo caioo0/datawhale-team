{
 "cells": [
  {
   "cell_type": "markdown",
   "id": "756bb55b",
   "metadata": {},
   "source": [
    "# 第五回：样式色彩秀芳华\n",
    "---\n",
    "（本学习笔记来源于[DataWhale-数据可视化](https://datawhalechina.github.io/fantastic-matplotlib/)，部分内容来自莫烦PYTHON教程）"
   ]
  },
  {
   "cell_type": "code",
   "execution_count": null,
   "id": "a047c5ec",
   "metadata": {},
   "outputs": [],
   "source": []
  }
 ],
 "metadata": {
  "kernelspec": {
   "display_name": "Python 3 (ipykernel)",
   "language": "python",
   "name": "python3"
  },
  "language_info": {
   "codemirror_mode": {
    "name": "ipython",
    "version": 3
   },
   "file_extension": ".py",
   "mimetype": "text/x-python",
   "name": "python",
   "nbconvert_exporter": "python",
   "pygments_lexer": "ipython3",
   "version": "3.8.8"
  }
 },
 "nbformat": 4,
 "nbformat_minor": 5
}
