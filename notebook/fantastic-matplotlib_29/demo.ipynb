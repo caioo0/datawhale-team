{
 "cells": [
  {
   "cell_type": "code",
   "execution_count": 1,
   "id": "f77eccf9",
   "metadata": {},
   "outputs": [
    {
     "data": {
      "image/png": "[encoded data removed]",
      "text/plain": [
       "<Figure size 432x288 with 1 Axes>"
      ]
     },
     "metadata": {
      "needs_background": "light"
     },
     "output_type": "display_data"
    }
   ],
   "source": [
    "%matplotlib inline\n",
    "\n",
    "import matplotlib.pyplot as plt\n",
    "import numpy as np\n",
    "\n",
    "x = np.linspace(0, 2, 100)\n",
    "\n",
    "plt.plot(x, x, label='linear') \n",
    "plt.plot(x, x**2, label='quadratic')  \n",
    "plt.plot(x, x**3, label='cubic')\n",
    "plt.xlabel('x label')\n",
    "plt.ylabel('y label')\n",
    "plt.title(\"Simple Plot\")\n",
    "plt.legend()\n",
    "plt.show()"
   ]
  },
  {
   "cell_type": "code",
   "execution_count": null,
   "id": "fcac0b5a",
   "metadata": {},
   "outputs": [],
   "source": [
    "%matplotlib inline\n",
    "\n",
    "import matplotlib.pyplot as plt\n",
    "import numpy as np\n",
    "\n",
    "x = np.linspace(0, 2, 100)\n",
    "y = x\n",
    "y1 = x**2\n",
    "y2 = x**3 \n",
    "\n",
    "plt.plot(x, x, label='linear') \n",
    "plt.plot(x, x**2, label='quadratic')  \n",
    "plt.plot(x, x**3, label='cubic')\n",
    "plt.xlabel('x label')\n",
    "plt.ylabel('y label')\n",
    "plt.title(\"Simple Plot\")\n",
    "plt.legend()\n",
    "plt.show()"
   ]
  },
  {
   "cell_type": "code",
   "execution_count": 2,
   "id": "7ac4b35f",
   "metadata": {},
   "outputs": [
    {
     "ename": "ValueError",
     "evalue": "x and y must have same first dimension, but have shapes (100,) and (3, 100)",
     "output_type": "error",
     "traceback": [
      "\u001b[1;31m---------------------------------------------------------------------------\u001b[0m",
      "\u001b[1;31mValueError\u001b[0m                                Traceback (most recent call last)",
      "\u001b[1;32m~\\AppData\\Local\\Temp/ipykernel_31128/2289979658.py\u001b[0m in \u001b[0;36m<module>\u001b[1;34m\u001b[0m\n\u001b[0;32m      8\u001b[0m \u001b[0mplotarr\u001b[0m \u001b[1;33m=\u001b[0m \u001b[0mnp\u001b[0m\u001b[1;33m.\u001b[0m\u001b[0marray\u001b[0m\u001b[1;33m(\u001b[0m\u001b[1;33m[\u001b[0m\u001b[0mx\u001b[0m\u001b[1;33m,\u001b[0m\u001b[0my1\u001b[0m\u001b[1;33m,\u001b[0m\u001b[0my2\u001b[0m\u001b[1;33m,\u001b[0m\u001b[0my3\u001b[0m\u001b[1;33m]\u001b[0m\u001b[1;33m)\u001b[0m\u001b[1;33m\u001b[0m\u001b[1;33m\u001b[0m\u001b[0m\n\u001b[0;32m      9\u001b[0m \u001b[1;31m#plt.plot(plotarr[0],plotarr[1],plotarr[0],plotarr[2],plotarr[0],plotarr[3])\u001b[0m\u001b[1;33m\u001b[0m\u001b[1;33m\u001b[0m\u001b[1;33m\u001b[0m\u001b[0m\n\u001b[1;32m---> 10\u001b[1;33m \u001b[0mplt\u001b[0m\u001b[1;33m.\u001b[0m\u001b[0mplot\u001b[0m\u001b[1;33m(\u001b[0m\u001b[0mplotarr\u001b[0m\u001b[1;33m[\u001b[0m\u001b[1;36m0\u001b[0m\u001b[1;33m]\u001b[0m\u001b[1;33m,\u001b[0m\u001b[0mplotarr\u001b[0m\u001b[1;33m[\u001b[0m\u001b[1;36m1\u001b[0m\u001b[1;33m:\u001b[0m\u001b[1;33m]\u001b[0m\u001b[1;33m)\u001b[0m\u001b[1;33m\u001b[0m\u001b[1;33m\u001b[0m\u001b[0m\n\u001b[0m\u001b[0;32m     11\u001b[0m \u001b[0mplt\u001b[0m\u001b[1;33m.\u001b[0m\u001b[0mshow\u001b[0m\u001b[1;33m(\u001b[0m\u001b[1;33m)\u001b[0m\u001b[1;33m\u001b[0m\u001b[1;33m\u001b[0m\u001b[0m\n",
      "\u001b[1;32md:\\ProgramData\\Anaconda3\\lib\\site-packages\\matplotlib\\pyplot.py\u001b[0m in \u001b[0;36mplot\u001b[1;34m(scalex, scaley, data, *args, **kwargs)\u001b[0m\n\u001b[0;32m   2838\u001b[0m \u001b[1;33m@\u001b[0m\u001b[0m_copy_docstring_and_deprecators\u001b[0m\u001b[1;33m(\u001b[0m\u001b[0mAxes\u001b[0m\u001b[1;33m.\u001b[0m\u001b[0mplot\u001b[0m\u001b[1;33m)\u001b[0m\u001b[1;33m\u001b[0m\u001b[1;33m\u001b[0m\u001b[0m\n\u001b[0;32m   2839\u001b[0m \u001b[1;32mdef\u001b[0m \u001b[0mplot\u001b[0m\u001b[1;33m(\u001b[0m\u001b[1;33m*\u001b[0m\u001b[0margs\u001b[0m\u001b[1;33m,\u001b[0m \u001b[0mscalex\u001b[0m\u001b[1;33m=\u001b[0m\u001b[1;32mTrue\u001b[0m\u001b[1;33m,\u001b[0m \u001b[0mscaley\u001b[0m\u001b[1;33m=\u001b[0m\u001b[1;32mTrue\u001b[0m\u001b[1;33m,\u001b[0m \u001b[0mdata\u001b[0m\u001b[1;33m=\u001b[0m\u001b[1;32mNone\u001b[0m\u001b[1;33m,\u001b[0m \u001b[1;33m**\u001b[0m\u001b[0mkwargs\u001b[0m\u001b[1;33m)\u001b[0m\u001b[1;33m:\u001b[0m\u001b[1;33m\u001b[0m\u001b[1;33m\u001b[0m\u001b[0m\n\u001b[1;32m-> 2840\u001b[1;33m     return gca().plot(\n\u001b[0m\u001b[0;32m   2841\u001b[0m         \u001b[1;33m*\u001b[0m\u001b[0margs\u001b[0m\u001b[1;33m,\u001b[0m \u001b[0mscalex\u001b[0m\u001b[1;33m=\u001b[0m\u001b[0mscalex\u001b[0m\u001b[1;33m,\u001b[0m \u001b[0mscaley\u001b[0m\u001b[1;33m=\u001b[0m\u001b[0mscaley\u001b[0m\u001b[1;33m,\u001b[0m\u001b[1;33m\u001b[0m\u001b[1;33m\u001b[0m\u001b[0m\n\u001b[0;32m   2842\u001b[0m         **({\"data\": data} if data is not None else {}), **kwargs)\n",
      "\u001b[1;32md:\\ProgramData\\Anaconda3\\lib\\site-packages\\matplotlib\\axes\\_axes.py\u001b[0m in \u001b[0;36mplot\u001b[1;34m(self, scalex, scaley, data, *args, **kwargs)\u001b[0m\n\u001b[0;32m   1741\u001b[0m         \"\"\"\n\u001b[0;32m   1742\u001b[0m         \u001b[0mkwargs\u001b[0m \u001b[1;33m=\u001b[0m \u001b[0mcbook\u001b[0m\u001b[1;33m.\u001b[0m\u001b[0mnormalize_kwargs\u001b[0m\u001b[1;33m(\u001b[0m\u001b[0mkwargs\u001b[0m\u001b[1;33m,\u001b[0m \u001b[0mmlines\u001b[0m\u001b[1;33m.\u001b[0m\u001b[0mLine2D\u001b[0m\u001b[1;33m)\u001b[0m\u001b[1;33m\u001b[0m\u001b[1;33m\u001b[0m\u001b[0m\n\u001b[1;32m-> 1743\u001b[1;33m         \u001b[0mlines\u001b[0m \u001b[1;33m=\u001b[0m \u001b[1;33m[\u001b[0m\u001b[1;33m*\u001b[0m\u001b[0mself\u001b[0m\u001b[1;33m.\u001b[0m\u001b[0m_get_lines\u001b[0m\u001b[1;33m(\u001b[0m\u001b[1;33m*\u001b[0m\u001b[0margs\u001b[0m\u001b[1;33m,\u001b[0m \u001b[0mdata\u001b[0m\u001b[1;33m=\u001b[0m\u001b[0mdata\u001b[0m\u001b[1;33m,\u001b[0m \u001b[1;33m**\u001b[0m\u001b[0mkwargs\u001b[0m\u001b[1;33m)\u001b[0m\u001b[1;33m]\u001b[0m\u001b[1;33m\u001b[0m\u001b[1;33m\u001b[0m\u001b[0m\n\u001b[0m\u001b[0;32m   1744\u001b[0m         \u001b[1;32mfor\u001b[0m \u001b[0mline\u001b[0m \u001b[1;32min\u001b[0m \u001b[0mlines\u001b[0m\u001b[1;33m:\u001b[0m\u001b[1;33m\u001b[0m\u001b[1;33m\u001b[0m\u001b[0m\n\u001b[0;32m   1745\u001b[0m             \u001b[0mself\u001b[0m\u001b[1;33m.\u001b[0m\u001b[0madd_line\u001b[0m\u001b[1;33m(\u001b[0m\u001b[0mline\u001b[0m\u001b[1;33m)\u001b[0m\u001b[1;33m\u001b[0m\u001b[1;33m\u001b[0m\u001b[0m\n",
      "\u001b[1;32md:\\ProgramData\\Anaconda3\\lib\\site-packages\\matplotlib\\axes\\_base.py\u001b[0m in \u001b[0;36m__call__\u001b[1;34m(self, data, *args, **kwargs)\u001b[0m\n\u001b[0;32m    271\u001b[0m                 \u001b[0mthis\u001b[0m \u001b[1;33m+=\u001b[0m \u001b[0margs\u001b[0m\u001b[1;33m[\u001b[0m\u001b[1;36m0\u001b[0m\u001b[1;33m]\u001b[0m\u001b[1;33m,\u001b[0m\u001b[1;33m\u001b[0m\u001b[1;33m\u001b[0m\u001b[0m\n\u001b[0;32m    272\u001b[0m                 \u001b[0margs\u001b[0m \u001b[1;33m=\u001b[0m \u001b[0margs\u001b[0m\u001b[1;33m[\u001b[0m\u001b[1;36m1\u001b[0m\u001b[1;33m:\u001b[0m\u001b[1;33m]\u001b[0m\u001b[1;33m\u001b[0m\u001b[1;33m\u001b[0m\u001b[0m\n\u001b[1;32m--> 273\u001b[1;33m             \u001b[1;32myield\u001b[0m \u001b[1;32mfrom\u001b[0m \u001b[0mself\u001b[0m\u001b[1;33m.\u001b[0m\u001b[0m_plot_args\u001b[0m\u001b[1;33m(\u001b[0m\u001b[0mthis\u001b[0m\u001b[1;33m,\u001b[0m \u001b[0mkwargs\u001b[0m\u001b[1;33m)\u001b[0m\u001b[1;33m\u001b[0m\u001b[1;33m\u001b[0m\u001b[0m\n\u001b[0m\u001b[0;32m    274\u001b[0m \u001b[1;33m\u001b[0m\u001b[0m\n\u001b[0;32m    275\u001b[0m     \u001b[1;32mdef\u001b[0m \u001b[0mget_next_color\u001b[0m\u001b[1;33m(\u001b[0m\u001b[0mself\u001b[0m\u001b[1;33m)\u001b[0m\u001b[1;33m:\u001b[0m\u001b[1;33m\u001b[0m\u001b[1;33m\u001b[0m\u001b[0m\n",
      "\u001b[1;32md:\\ProgramData\\Anaconda3\\lib\\site-packages\\matplotlib\\axes\\_base.py\u001b[0m in \u001b[0;36m_plot_args\u001b[1;34m(self, tup, kwargs)\u001b[0m\n\u001b[0;32m    397\u001b[0m \u001b[1;33m\u001b[0m\u001b[0m\n\u001b[0;32m    398\u001b[0m         \u001b[1;32mif\u001b[0m \u001b[0mx\u001b[0m\u001b[1;33m.\u001b[0m\u001b[0mshape\u001b[0m\u001b[1;33m[\u001b[0m\u001b[1;36m0\u001b[0m\u001b[1;33m]\u001b[0m \u001b[1;33m!=\u001b[0m \u001b[0my\u001b[0m\u001b[1;33m.\u001b[0m\u001b[0mshape\u001b[0m\u001b[1;33m[\u001b[0m\u001b[1;36m0\u001b[0m\u001b[1;33m]\u001b[0m\u001b[1;33m:\u001b[0m\u001b[1;33m\u001b[0m\u001b[1;33m\u001b[0m\u001b[0m\n\u001b[1;32m--> 399\u001b[1;33m             raise ValueError(f\"x and y must have same first dimension, but \"\n\u001b[0m\u001b[0;32m    400\u001b[0m                              f\"have shapes {x.shape} and {y.shape}\")\n\u001b[0;32m    401\u001b[0m         \u001b[1;32mif\u001b[0m \u001b[0mx\u001b[0m\u001b[1;33m.\u001b[0m\u001b[0mndim\u001b[0m \u001b[1;33m>\u001b[0m \u001b[1;36m2\u001b[0m \u001b[1;32mor\u001b[0m \u001b[0my\u001b[0m\u001b[1;33m.\u001b[0m\u001b[0mndim\u001b[0m \u001b[1;33m>\u001b[0m \u001b[1;36m2\u001b[0m\u001b[1;33m:\u001b[0m\u001b[1;33m\u001b[0m\u001b[1;33m\u001b[0m\u001b[0m\n",
      "\u001b[1;31mValueError\u001b[0m: x and y must have same first dimension, but have shapes (100,) and (3, 100)"
     ]
    },
    {
     "data": {
      "image/png": "[encoded data removed]",
      "text/plain": [
       "<Figure size 432x288 with 1 Axes>"
      ]
     },
     "metadata": {
      "needs_background": "light"
     },
     "output_type": "display_data"
    }
   ],
   "source": [
    "import matplotlib.pyplot as plt\n",
    "import numpy as np\n",
    "\n",
    "x = np.linspace(0,2,100)\n",
    "y1 = x\n",
    "y2 = x**2\n",
    "y3 = x**3\n",
    "plotarr = np.array([x,y1,y2,y3])\n",
    "#plt.plot(plotarr[0],plotarr[1],plotarr[0],plotarr[2],plotarr[0],plotarr[3])\n",
    "plt.plot(plotarr[0],plotarr[1:])\n",
    "plt.show()"
   ]
  },
  {
   "cell_type": "code",
   "execution_count": 3,
   "id": "1d68244e",
   "metadata": {},
   "outputs": [
    {
     "data": {
      "text/plain": [
       "array([[0.00000000e+00, 2.02020202e-02, 4.04040404e-02, 6.06060606e-02,\n",
       "        8.08080808e-02, 1.01010101e-01, 1.21212121e-01, 1.41414141e-01,\n",
       "        1.61616162e-01, 1.81818182e-01, 2.02020202e-01, 2.22222222e-01,\n",
       "        2.42424242e-01, 2.62626263e-01, 2.82828283e-01, 3.03030303e-01,\n",
       "        3.23232323e-01, 3.43434343e-01, 3.63636364e-01, 3.83838384e-01,\n",
       "        4.04040404e-01, 4.24242424e-01, 4.44444444e-01, 4.64646465e-01,\n",
       "        4.84848485e-01, 5.05050505e-01, 5.25252525e-01, 5.45454545e-01,\n",
       "        5.65656566e-01, 5.85858586e-01, 6.06060606e-01, 6.26262626e-01,\n",
       "        6.46464646e-01, 6.66666667e-01, 6.86868687e-01, 7.07070707e-01,\n",
       "        7.27272727e-01, 7.47474747e-01, 7.67676768e-01, 7.87878788e-01,\n",
       "        8.08080808e-01, 8.28282828e-01, 8.48484848e-01, 8.68686869e-01,\n",
       "        8.88888889e-01, 9.09090909e-01, 9.29292929e-01, 9.49494949e-01,\n",
       "        9.69696970e-01, 9.89898990e-01, 1.01010101e+00, 1.03030303e+00,\n",
       "        1.05050505e+00, 1.07070707e+00, 1.09090909e+00, 1.11111111e+00,\n",
       "        1.13131313e+00, 1.15151515e+00, 1.17171717e+00, 1.19191919e+00,\n",
       "        1.21212121e+00, 1.23232323e+00, 1.25252525e+00, 1.27272727e+00,\n",
       "        1.29292929e+00, 1.31313131e+00, 1.33333333e+00, 1.35353535e+00,\n",
       "        1.37373737e+00, 1.39393939e+00, 1.41414141e+00, 1.43434343e+00,\n",
       "        1.45454545e+00, 1.47474747e+00, 1.49494949e+00, 1.51515152e+00,\n",
       "        1.53535354e+00, 1.55555556e+00, 1.57575758e+00, 1.59595960e+00,\n",
       "        1.61616162e+00, 1.63636364e+00, 1.65656566e+00, 1.67676768e+00,\n",
       "        1.69696970e+00, 1.71717172e+00, 1.73737374e+00, 1.75757576e+00,\n",
       "        1.77777778e+00, 1.79797980e+00, 1.81818182e+00, 1.83838384e+00,\n",
       "        1.85858586e+00, 1.87878788e+00, 1.89898990e+00, 1.91919192e+00,\n",
       "        1.93939394e+00, 1.95959596e+00, 1.97979798e+00, 2.00000000e+00],\n",
       "       [0.00000000e+00, 4.08121620e-04, 1.63248648e-03, 3.67309458e-03,\n",
       "        6.52994592e-03, 1.02030405e-02, 1.46923783e-02, 1.99979594e-02,\n",
       "        2.61197837e-02, 3.30578512e-02, 4.08121620e-02, 4.93827160e-02,\n",
       "        5.87695133e-02, 6.89725538e-02, 7.99918376e-02, 9.18273646e-02,\n",
       "        1.04479135e-01, 1.17947148e-01, 1.32231405e-01, 1.47331905e-01,\n",
       "        1.63248648e-01, 1.79981635e-01, 1.97530864e-01, 2.15896337e-01,\n",
       "        2.35078053e-01, 2.55076013e-01, 2.75890215e-01, 2.97520661e-01,\n",
       "        3.19967350e-01, 3.43230283e-01, 3.67309458e-01, 3.92204877e-01,\n",
       "        4.17916539e-01, 4.44444444e-01, 4.71788593e-01, 4.99948985e-01,\n",
       "        5.28925620e-01, 5.58718498e-01, 5.89327620e-01, 6.20752984e-01,\n",
       "        6.52994592e-01, 6.86052444e-01, 7.19926538e-01, 7.54616876e-01,\n",
       "        7.90123457e-01, 8.26446281e-01, 8.63585348e-01, 9.01540659e-01,\n",
       "        9.40312213e-01, 9.79900010e-01, 1.02030405e+00, 1.06152433e+00,\n",
       "        1.10356086e+00, 1.14641363e+00, 1.19008264e+00, 1.23456790e+00,\n",
       "        1.27986940e+00, 1.32598714e+00, 1.37292113e+00, 1.42067136e+00,\n",
       "        1.46923783e+00, 1.51862055e+00, 1.56881951e+00, 1.61983471e+00,\n",
       "        1.67166616e+00, 1.72431385e+00, 1.77777778e+00, 1.83205795e+00,\n",
       "        1.88715437e+00, 1.94306703e+00, 1.99979594e+00, 2.05734109e+00,\n",
       "        2.11570248e+00, 2.17488011e+00, 2.23487399e+00, 2.29568411e+00,\n",
       "        2.35731048e+00, 2.41975309e+00, 2.48301194e+00, 2.54708703e+00,\n",
       "        2.61197837e+00, 2.67768595e+00, 2.74420977e+00, 2.81154984e+00,\n",
       "        2.87970615e+00, 2.94867871e+00, 3.01846750e+00, 3.08907254e+00,\n",
       "        3.16049383e+00, 3.23273135e+00, 3.30578512e+00, 3.37965514e+00,\n",
       "        3.45434139e+00, 3.52984389e+00, 3.60616264e+00, 3.68329762e+00,\n",
       "        3.76124885e+00, 3.84001632e+00, 3.91960004e+00, 4.00000000e+00],\n",
       "       [0.00000000e+00, 8.24488122e-06, 6.59590497e-05, 2.22611793e-04,\n",
       "        5.27672398e-04, 1.03061015e-03, 1.78089434e-03, 2.82799426e-03,\n",
       "        4.22137918e-03, 6.01051841e-03, 8.24488122e-03, 1.09739369e-02,\n",
       "        1.42471547e-02, 1.81140040e-02, 2.26239541e-02, 2.78264741e-02,\n",
       "        3.37710335e-02, 4.05071014e-02, 4.80841473e-02, 5.65516403e-02,\n",
       "        6.59590497e-02, 7.63558450e-02, 8.77914952e-02, 1.00315470e-01,\n",
       "        1.13977238e-01, 1.28826269e-01, 1.44912032e-01, 1.62283997e-01,\n",
       "        1.80991632e-01, 2.01084408e-01, 2.22611793e-01, 2.45623256e-01,\n",
       "        2.70168268e-01, 2.96296296e-01, 3.24056811e-01, 3.53499282e-01,\n",
       "        3.84673178e-01, 4.17627968e-01, 4.52413122e-01, 4.89078109e-01,\n",
       "        5.27672398e-01, 5.68245458e-01, 6.10846760e-01, 6.55525771e-01,\n",
       "        7.02331962e-01, 7.51314801e-01, 8.02523758e-01, 8.56008303e-01,\n",
       "        9.11817904e-01, 9.70002030e-01, 1.03061015e+00, 1.09369174e+00,\n",
       "        1.15929626e+00, 1.22747318e+00, 1.29827198e+00, 1.37174211e+00,\n",
       "        1.44793306e+00, 1.52689429e+00, 1.60867526e+00, 1.69332546e+00,\n",
       "        1.78089434e+00, 1.87143138e+00, 1.96498605e+00, 2.06160781e+00,\n",
       "        2.16134614e+00, 2.26425050e+00, 2.37037037e+00, 2.47975521e+00,\n",
       "        2.59245449e+00, 2.70851768e+00, 2.82799426e+00, 2.95093368e+00,\n",
       "        3.07738542e+00, 3.20739896e+00, 3.34102375e+00, 3.47830926e+00,\n",
       "        3.61930498e+00, 3.76406036e+00, 3.91262487e+00, 4.06504799e+00,\n",
       "        4.22137918e+00, 4.38166792e+00, 4.54596367e+00, 4.71431590e+00,\n",
       "        4.88677408e+00, 5.06338768e+00, 5.24420617e+00, 5.42927902e+00,\n",
       "        5.61865569e+00, 5.81238567e+00, 6.01051841e+00, 6.21310338e+00,\n",
       "        6.42019007e+00, 6.63182792e+00, 6.84806642e+00, 7.06895503e+00,\n",
       "        7.29454323e+00, 7.52488047e+00, 7.76001624e+00, 8.00000000e+00]])"
      ]
     },
     "execution_count": 3,
     "metadata": {},
     "output_type": "execute_result"
    }
   ],
   "source": [
    "plotarr[1:]"
   ]
  },
  {
   "cell_type": "code",
   "execution_count": 4,
   "id": "0e5c655f",
   "metadata": {},
   "outputs": [
    {
     "data": {
      "text/plain": [
       "array([0.        , 0.02020202, 0.04040404, 0.06060606, 0.08080808,\n",
       "       0.1010101 , 0.12121212, 0.14141414, 0.16161616, 0.18181818,\n",
       "       0.2020202 , 0.22222222, 0.24242424, 0.26262626, 0.28282828,\n",
       "       0.3030303 , 0.32323232, 0.34343434, 0.36363636, 0.38383838,\n",
       "       0.4040404 , 0.42424242, 0.44444444, 0.46464646, 0.48484848,\n",
       "       0.50505051, 0.52525253, 0.54545455, 0.56565657, 0.58585859,\n",
       "       0.60606061, 0.62626263, 0.64646465, 0.66666667, 0.68686869,\n",
       "       0.70707071, 0.72727273, 0.74747475, 0.76767677, 0.78787879,\n",
       "       0.80808081, 0.82828283, 0.84848485, 0.86868687, 0.88888889,\n",
       "       0.90909091, 0.92929293, 0.94949495, 0.96969697, 0.98989899,\n",
       "       1.01010101, 1.03030303, 1.05050505, 1.07070707, 1.09090909,\n",
       "       1.11111111, 1.13131313, 1.15151515, 1.17171717, 1.19191919,\n",
       "       1.21212121, 1.23232323, 1.25252525, 1.27272727, 1.29292929,\n",
       "       1.31313131, 1.33333333, 1.35353535, 1.37373737, 1.39393939,\n",
       "       1.41414141, 1.43434343, 1.45454545, 1.47474747, 1.49494949,\n",
       "       1.51515152, 1.53535354, 1.55555556, 1.57575758, 1.5959596 ,\n",
       "       1.61616162, 1.63636364, 1.65656566, 1.67676768, 1.6969697 ,\n",
       "       1.71717172, 1.73737374, 1.75757576, 1.77777778, 1.7979798 ,\n",
       "       1.81818182, 1.83838384, 1.85858586, 1.87878788, 1.8989899 ,\n",
       "       1.91919192, 1.93939394, 1.95959596, 1.97979798, 2.        ])"
      ]
     },
     "execution_count": 4,
     "metadata": {},
     "output_type": "execute_result"
    }
   ],
   "source": [
    "plotarr[0]"
   ]
  },
  {
   "cell_type": "code",
   "execution_count": null,
   "id": "950ad828",
   "metadata": {},
   "outputs": [],
   "source": []
  }
 ],
 "metadata": {
  "kernelspec": {
   "display_name": "Python 3 (ipykernel)",
   "language": "python",
   "name": "python3"
  },
  "language_info": {
   "codemirror_mode": {
    "name": "ipython",
    "version": 3
   },
   "file_extension": ".py",
   "mimetype": "text/x-python",
   "name": "python",
   "nbconvert_exporter": "python",
   "pygments_lexer": "ipython3",
   "version": "3.8.8"
  }
 },
 "nbformat": 4,
 "nbformat_minor": 5
}
